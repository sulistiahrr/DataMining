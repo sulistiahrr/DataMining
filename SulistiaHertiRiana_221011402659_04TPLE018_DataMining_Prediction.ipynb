{
  "nbformat": 4,
  "nbformat_minor": 0,
  "metadata": {
    "colab": {
      "provenance": [],
      "authorship_tag": "ABX9TyP9P98YUmohIYwY3VxfT55x",
      "include_colab_link": true
    },
    "kernelspec": {
      "name": "python3",
      "display_name": "Python 3"
    },
    "language_info": {
      "name": "python"
    }
  },
  "cells": [
    {
      "cell_type": "markdown",
      "metadata": {
        "id": "view-in-github",
        "colab_type": "text"
      },
      "source": [
        "<a href=\"https://colab.research.google.com/github/sulistiahrr/DataMining/blob/main/SulistiaHertiRiana_221011402659_04TPLE018_DataMining_Prediction.ipynb\" target=\"_parent\"><img src=\"https://colab.research.google.com/assets/colab-badge.svg\" alt=\"Open In Colab\"/></a>"
      ]
    },
    {
      "cell_type": "code",
      "execution_count": 3,
      "metadata": {
        "id": "mprJpmsKiyg1"
      },
      "outputs": [],
      "source": [
        "import zipfile\n",
        "\n",
        "with zipfile.ZipFile('archive.zip','r') as zip_ref:\n",
        "  zip_ref.extractall('/content/')"
      ]
    },
    {
      "cell_type": "code",
      "source": [
        "import numpy as np\n",
        "import pandas as pd\n",
        "import seaborn as sns\n",
        "import matplotlib.pyplot as plt\n",
        "import warnings\n",
        "warnings.filterwarnings('ignore')\n",
        "\n",
        "from sklearn.metrics import confusion_matrix, accuracy_score, classification_report\n",
        "from sklearn.model_selection import train_test_split\n",
        "from sklearn.ensemble import RandomForestClassifier\n",
        "from sklearn.neighbors import KNeighborsClassifier\n",
        "from sklearn.neural_network import MLPClassifier"
      ],
      "metadata": {
        "id": "YOenlb-ukAlO"
      },
      "execution_count": 4,
      "outputs": []
    },
    {
      "cell_type": "code",
      "source": [
        "df = pd.read_csv('/content/places_to_eat_in_the_jogja_region.csv')\n",
        "display(df.head(2))\n",
        "display(df.tail(2))\n",
        "display(df.sample(4))"
      ],
      "metadata": {
        "colab": {
          "base_uri": "https://localhost:8080/",
          "height": 1000
        },
        "id": "qc66fsBIkUEh",
        "outputId": "aee11fee-f263-4353-f9c5-989288effe66"
      },
      "execution_count": 5,
      "outputs": [
        {
          "output_type": "display_data",
          "data": {
            "text/plain": [
              "                                       Nama Restoran Preferensi Makanan  \\\n",
              "0                Mie Bandung Chinese Food, Ngampilan            Chinese   \n",
              "1  Soto Tauco Pekalongan Bu Iswi, Jalan Bimokurdo...          Indonesia   \n",
              "\n",
              "  Lokasi Restoran  Harga Rata-Rata Makanan di Toko (Rp)  Rating Toko  \\\n",
              "0         3.23 km                                 39000          4.7   \n",
              "1         3.01 km                                 19000          3.7   \n",
              "\n",
              "  Jenis Suasana Toko Sering Diskon (Ya/Tidak)  \\\n",
              "0        Santai                         Tidak   \n",
              "1        Santai                         Tidak   \n",
              "\n",
              "                     Variasi Makanan Pelayanan Khusus Pasangan (Ya/Tidak)  \\\n",
              "0        Bakmie, Aneka nasi, Chinese                                Tidak   \n",
              "1  Bakso & soto, Cepat saji, Minuman                                Tidak   \n",
              "\n",
              "   Entertainment  Keramaian Restoran Disajikan atau Ambil Sendiri  \\\n",
              "0              3                   3                    Disajikan   \n",
              "1              2                   2                    Disajikan   \n",
              "\n",
              "  All You Can Eat atau Ala Carte  \n",
              "0                      Ala Carte  \n",
              "1                      Ala Carte  "
            ],
            "text/html": [
              "\n",
              "  <div id=\"df-7e5cfa80-583d-4edf-8432-d41cde5dd66c\" class=\"colab-df-container\">\n",
              "    <div>\n",
              "<style scoped>\n",
              "    .dataframe tbody tr th:only-of-type {\n",
              "        vertical-align: middle;\n",
              "    }\n",
              "\n",
              "    .dataframe tbody tr th {\n",
              "        vertical-align: top;\n",
              "    }\n",
              "\n",
              "    .dataframe thead th {\n",
              "        text-align: right;\n",
              "    }\n",
              "</style>\n",
              "<table border=\"1\" class=\"dataframe\">\n",
              "  <thead>\n",
              "    <tr style=\"text-align: right;\">\n",
              "      <th></th>\n",
              "      <th>Nama Restoran</th>\n",
              "      <th>Preferensi Makanan</th>\n",
              "      <th>Lokasi Restoran</th>\n",
              "      <th>Harga Rata-Rata Makanan di Toko (Rp)</th>\n",
              "      <th>Rating Toko</th>\n",
              "      <th>Jenis Suasana</th>\n",
              "      <th>Toko Sering Diskon (Ya/Tidak)</th>\n",
              "      <th>Variasi Makanan</th>\n",
              "      <th>Pelayanan Khusus Pasangan (Ya/Tidak)</th>\n",
              "      <th>Entertainment</th>\n",
              "      <th>Keramaian Restoran</th>\n",
              "      <th>Disajikan atau Ambil Sendiri</th>\n",
              "      <th>All You Can Eat atau Ala Carte</th>\n",
              "    </tr>\n",
              "  </thead>\n",
              "  <tbody>\n",
              "    <tr>\n",
              "      <th>0</th>\n",
              "      <td>Mie Bandung Chinese Food, Ngampilan</td>\n",
              "      <td>Chinese</td>\n",
              "      <td>3.23 km</td>\n",
              "      <td>39000</td>\n",
              "      <td>4.7</td>\n",
              "      <td>Santai</td>\n",
              "      <td>Tidak</td>\n",
              "      <td>Bakmie, Aneka nasi, Chinese</td>\n",
              "      <td>Tidak</td>\n",
              "      <td>3</td>\n",
              "      <td>3</td>\n",
              "      <td>Disajikan</td>\n",
              "      <td>Ala Carte</td>\n",
              "    </tr>\n",
              "    <tr>\n",
              "      <th>1</th>\n",
              "      <td>Soto Tauco Pekalongan Bu Iswi, Jalan Bimokurdo...</td>\n",
              "      <td>Indonesia</td>\n",
              "      <td>3.01 km</td>\n",
              "      <td>19000</td>\n",
              "      <td>3.7</td>\n",
              "      <td>Santai</td>\n",
              "      <td>Tidak</td>\n",
              "      <td>Bakso &amp; soto, Cepat saji, Minuman</td>\n",
              "      <td>Tidak</td>\n",
              "      <td>2</td>\n",
              "      <td>2</td>\n",
              "      <td>Disajikan</td>\n",
              "      <td>Ala Carte</td>\n",
              "    </tr>\n",
              "  </tbody>\n",
              "</table>\n",
              "</div>\n",
              "    <div class=\"colab-df-buttons\">\n",
              "\n",
              "  <div class=\"colab-df-container\">\n",
              "    <button class=\"colab-df-convert\" onclick=\"convertToInteractive('df-7e5cfa80-583d-4edf-8432-d41cde5dd66c')\"\n",
              "            title=\"Convert this dataframe to an interactive table.\"\n",
              "            style=\"display:none;\">\n",
              "\n",
              "  <svg xmlns=\"http://www.w3.org/2000/svg\" height=\"24px\" viewBox=\"0 -960 960 960\">\n",
              "    <path d=\"M120-120v-720h720v720H120Zm60-500h600v-160H180v160Zm220 220h160v-160H400v160Zm0 220h160v-160H400v160ZM180-400h160v-160H180v160Zm440 0h160v-160H620v160ZM180-180h160v-160H180v160Zm440 0h160v-160H620v160Z\"/>\n",
              "  </svg>\n",
              "    </button>\n",
              "\n",
              "  <style>\n",
              "    .colab-df-container {\n",
              "      display:flex;\n",
              "      gap: 12px;\n",
              "    }\n",
              "\n",
              "    .colab-df-convert {\n",
              "      background-color: #E8F0FE;\n",
              "      border: none;\n",
              "      border-radius: 50%;\n",
              "      cursor: pointer;\n",
              "      display: none;\n",
              "      fill: #1967D2;\n",
              "      height: 32px;\n",
              "      padding: 0 0 0 0;\n",
              "      width: 32px;\n",
              "    }\n",
              "\n",
              "    .colab-df-convert:hover {\n",
              "      background-color: #E2EBFA;\n",
              "      box-shadow: 0px 1px 2px rgba(60, 64, 67, 0.3), 0px 1px 3px 1px rgba(60, 64, 67, 0.15);\n",
              "      fill: #174EA6;\n",
              "    }\n",
              "\n",
              "    .colab-df-buttons div {\n",
              "      margin-bottom: 4px;\n",
              "    }\n",
              "\n",
              "    [theme=dark] .colab-df-convert {\n",
              "      background-color: #3B4455;\n",
              "      fill: #D2E3FC;\n",
              "    }\n",
              "\n",
              "    [theme=dark] .colab-df-convert:hover {\n",
              "      background-color: #434B5C;\n",
              "      box-shadow: 0px 1px 3px 1px rgba(0, 0, 0, 0.15);\n",
              "      filter: drop-shadow(0px 1px 2px rgba(0, 0, 0, 0.3));\n",
              "      fill: #FFFFFF;\n",
              "    }\n",
              "  </style>\n",
              "\n",
              "    <script>\n",
              "      const buttonEl =\n",
              "        document.querySelector('#df-7e5cfa80-583d-4edf-8432-d41cde5dd66c button.colab-df-convert');\n",
              "      buttonEl.style.display =\n",
              "        google.colab.kernel.accessAllowed ? 'block' : 'none';\n",
              "\n",
              "      async function convertToInteractive(key) {\n",
              "        const element = document.querySelector('#df-7e5cfa80-583d-4edf-8432-d41cde5dd66c');\n",
              "        const dataTable =\n",
              "          await google.colab.kernel.invokeFunction('convertToInteractive',\n",
              "                                                    [key], {});\n",
              "        if (!dataTable) return;\n",
              "\n",
              "        const docLinkHtml = 'Like what you see? Visit the ' +\n",
              "          '<a target=\"_blank\" href=https://colab.research.google.com/notebooks/data_table.ipynb>data table notebook</a>'\n",
              "          + ' to learn more about interactive tables.';\n",
              "        element.innerHTML = '';\n",
              "        dataTable['output_type'] = 'display_data';\n",
              "        await google.colab.output.renderOutput(dataTable, element);\n",
              "        const docLink = document.createElement('div');\n",
              "        docLink.innerHTML = docLinkHtml;\n",
              "        element.appendChild(docLink);\n",
              "      }\n",
              "    </script>\n",
              "  </div>\n",
              "\n",
              "\n",
              "<div id=\"df-b3d24c09-a837-45f5-93ac-403223536e49\">\n",
              "  <button class=\"colab-df-quickchart\" onclick=\"quickchart('df-b3d24c09-a837-45f5-93ac-403223536e49')\"\n",
              "            title=\"Suggest charts\"\n",
              "            style=\"display:none;\">\n",
              "\n",
              "<svg xmlns=\"http://www.w3.org/2000/svg\" height=\"24px\"viewBox=\"0 0 24 24\"\n",
              "     width=\"24px\">\n",
              "    <g>\n",
              "        <path d=\"M19 3H5c-1.1 0-2 .9-2 2v14c0 1.1.9 2 2 2h14c1.1 0 2-.9 2-2V5c0-1.1-.9-2-2-2zM9 17H7v-7h2v7zm4 0h-2V7h2v10zm4 0h-2v-4h2v4z\"/>\n",
              "    </g>\n",
              "</svg>\n",
              "  </button>\n",
              "\n",
              "<style>\n",
              "  .colab-df-quickchart {\n",
              "      --bg-color: #E8F0FE;\n",
              "      --fill-color: #1967D2;\n",
              "      --hover-bg-color: #E2EBFA;\n",
              "      --hover-fill-color: #174EA6;\n",
              "      --disabled-fill-color: #AAA;\n",
              "      --disabled-bg-color: #DDD;\n",
              "  }\n",
              "\n",
              "  [theme=dark] .colab-df-quickchart {\n",
              "      --bg-color: #3B4455;\n",
              "      --fill-color: #D2E3FC;\n",
              "      --hover-bg-color: #434B5C;\n",
              "      --hover-fill-color: #FFFFFF;\n",
              "      --disabled-bg-color: #3B4455;\n",
              "      --disabled-fill-color: #666;\n",
              "  }\n",
              "\n",
              "  .colab-df-quickchart {\n",
              "    background-color: var(--bg-color);\n",
              "    border: none;\n",
              "    border-radius: 50%;\n",
              "    cursor: pointer;\n",
              "    display: none;\n",
              "    fill: var(--fill-color);\n",
              "    height: 32px;\n",
              "    padding: 0;\n",
              "    width: 32px;\n",
              "  }\n",
              "\n",
              "  .colab-df-quickchart:hover {\n",
              "    background-color: var(--hover-bg-color);\n",
              "    box-shadow: 0 1px 2px rgba(60, 64, 67, 0.3), 0 1px 3px 1px rgba(60, 64, 67, 0.15);\n",
              "    fill: var(--button-hover-fill-color);\n",
              "  }\n",
              "\n",
              "  .colab-df-quickchart-complete:disabled,\n",
              "  .colab-df-quickchart-complete:disabled:hover {\n",
              "    background-color: var(--disabled-bg-color);\n",
              "    fill: var(--disabled-fill-color);\n",
              "    box-shadow: none;\n",
              "  }\n",
              "\n",
              "  .colab-df-spinner {\n",
              "    border: 2px solid var(--fill-color);\n",
              "    border-color: transparent;\n",
              "    border-bottom-color: var(--fill-color);\n",
              "    animation:\n",
              "      spin 1s steps(1) infinite;\n",
              "  }\n",
              "\n",
              "  @keyframes spin {\n",
              "    0% {\n",
              "      border-color: transparent;\n",
              "      border-bottom-color: var(--fill-color);\n",
              "      border-left-color: var(--fill-color);\n",
              "    }\n",
              "    20% {\n",
              "      border-color: transparent;\n",
              "      border-left-color: var(--fill-color);\n",
              "      border-top-color: var(--fill-color);\n",
              "    }\n",
              "    30% {\n",
              "      border-color: transparent;\n",
              "      border-left-color: var(--fill-color);\n",
              "      border-top-color: var(--fill-color);\n",
              "      border-right-color: var(--fill-color);\n",
              "    }\n",
              "    40% {\n",
              "      border-color: transparent;\n",
              "      border-right-color: var(--fill-color);\n",
              "      border-top-color: var(--fill-color);\n",
              "    }\n",
              "    60% {\n",
              "      border-color: transparent;\n",
              "      border-right-color: var(--fill-color);\n",
              "    }\n",
              "    80% {\n",
              "      border-color: transparent;\n",
              "      border-right-color: var(--fill-color);\n",
              "      border-bottom-color: var(--fill-color);\n",
              "    }\n",
              "    90% {\n",
              "      border-color: transparent;\n",
              "      border-bottom-color: var(--fill-color);\n",
              "    }\n",
              "  }\n",
              "</style>\n",
              "\n",
              "  <script>\n",
              "    async function quickchart(key) {\n",
              "      const quickchartButtonEl =\n",
              "        document.querySelector('#' + key + ' button');\n",
              "      quickchartButtonEl.disabled = true;  // To prevent multiple clicks.\n",
              "      quickchartButtonEl.classList.add('colab-df-spinner');\n",
              "      try {\n",
              "        const charts = await google.colab.kernel.invokeFunction(\n",
              "            'suggestCharts', [key], {});\n",
              "      } catch (error) {\n",
              "        console.error('Error during call to suggestCharts:', error);\n",
              "      }\n",
              "      quickchartButtonEl.classList.remove('colab-df-spinner');\n",
              "      quickchartButtonEl.classList.add('colab-df-quickchart-complete');\n",
              "    }\n",
              "    (() => {\n",
              "      let quickchartButtonEl =\n",
              "        document.querySelector('#df-b3d24c09-a837-45f5-93ac-403223536e49 button');\n",
              "      quickchartButtonEl.style.display =\n",
              "        google.colab.kernel.accessAllowed ? 'block' : 'none';\n",
              "    })();\n",
              "  </script>\n",
              "</div>\n",
              "    </div>\n",
              "  </div>\n"
            ],
            "application/vnd.google.colaboratory.intrinsic+json": {
              "type": "dataframe",
              "summary": "{\n  \"name\": \"display(df\",\n  \"rows\": 2,\n  \"fields\": [\n    {\n      \"column\": \"Nama Restoran\",\n      \"properties\": {\n        \"dtype\": \"string\",\n        \"num_unique_values\": 2,\n        \"samples\": [\n          \"Soto Tauco Pekalongan Bu Iswi, Jalan Bimokurdo No.46, Gondokusuman, Demangan\",\n          \"Mie Bandung Chinese Food, Ngampilan\"\n        ],\n        \"semantic_type\": \"\",\n        \"description\": \"\"\n      }\n    },\n    {\n      \"column\": \"Preferensi Makanan\",\n      \"properties\": {\n        \"dtype\": \"string\",\n        \"num_unique_values\": 2,\n        \"samples\": [\n          \"Indonesia\",\n          \"Chinese\"\n        ],\n        \"semantic_type\": \"\",\n        \"description\": \"\"\n      }\n    },\n    {\n      \"column\": \"Lokasi Restoran\",\n      \"properties\": {\n        \"dtype\": \"string\",\n        \"num_unique_values\": 2,\n        \"samples\": [\n          \"3.01 km\",\n          \"3.23 km\"\n        ],\n        \"semantic_type\": \"\",\n        \"description\": \"\"\n      }\n    },\n    {\n      \"column\": \"Harga Rata-Rata Makanan di Toko (Rp)\",\n      \"properties\": {\n        \"dtype\": \"number\",\n        \"std\": 14142,\n        \"min\": 19000,\n        \"max\": 39000,\n        \"num_unique_values\": 2,\n        \"samples\": [\n          19000,\n          39000\n        ],\n        \"semantic_type\": \"\",\n        \"description\": \"\"\n      }\n    },\n    {\n      \"column\": \"Rating Toko\",\n      \"properties\": {\n        \"dtype\": \"number\",\n        \"std\": 0.7071067811865476,\n        \"min\": 3.7,\n        \"max\": 4.7,\n        \"num_unique_values\": 2,\n        \"samples\": [\n          3.7,\n          4.7\n        ],\n        \"semantic_type\": \"\",\n        \"description\": \"\"\n      }\n    },\n    {\n      \"column\": \"Jenis Suasana\",\n      \"properties\": {\n        \"dtype\": \"string\",\n        \"num_unique_values\": 1,\n        \"samples\": [\n          \"Santai\"\n        ],\n        \"semantic_type\": \"\",\n        \"description\": \"\"\n      }\n    },\n    {\n      \"column\": \"Toko Sering Diskon (Ya/Tidak)\",\n      \"properties\": {\n        \"dtype\": \"string\",\n        \"num_unique_values\": 1,\n        \"samples\": [\n          \"Tidak\"\n        ],\n        \"semantic_type\": \"\",\n        \"description\": \"\"\n      }\n    },\n    {\n      \"column\": \"Variasi Makanan\",\n      \"properties\": {\n        \"dtype\": \"string\",\n        \"num_unique_values\": 2,\n        \"samples\": [\n          \"Bakso & soto, Cepat saji, Minuman\"\n        ],\n        \"semantic_type\": \"\",\n        \"description\": \"\"\n      }\n    },\n    {\n      \"column\": \"Pelayanan Khusus Pasangan (Ya/Tidak)\",\n      \"properties\": {\n        \"dtype\": \"string\",\n        \"num_unique_values\": 1,\n        \"samples\": [\n          \"Tidak\"\n        ],\n        \"semantic_type\": \"\",\n        \"description\": \"\"\n      }\n    },\n    {\n      \"column\": \"Entertainment\",\n      \"properties\": {\n        \"dtype\": \"number\",\n        \"std\": 0,\n        \"min\": 2,\n        \"max\": 3,\n        \"num_unique_values\": 2,\n        \"samples\": [\n          2\n        ],\n        \"semantic_type\": \"\",\n        \"description\": \"\"\n      }\n    },\n    {\n      \"column\": \"Keramaian Restoran\",\n      \"properties\": {\n        \"dtype\": \"number\",\n        \"std\": 0,\n        \"min\": 2,\n        \"max\": 3,\n        \"num_unique_values\": 2,\n        \"samples\": [\n          2\n        ],\n        \"semantic_type\": \"\",\n        \"description\": \"\"\n      }\n    },\n    {\n      \"column\": \"Disajikan atau Ambil Sendiri\",\n      \"properties\": {\n        \"dtype\": \"string\",\n        \"num_unique_values\": 1,\n        \"samples\": [\n          \"Disajikan\"\n        ],\n        \"semantic_type\": \"\",\n        \"description\": \"\"\n      }\n    },\n    {\n      \"column\": \"All You Can Eat atau Ala Carte\",\n      \"properties\": {\n        \"dtype\": \"string\",\n        \"num_unique_values\": 1,\n        \"samples\": [\n          \"Ala Carte\"\n        ],\n        \"semantic_type\": \"\",\n        \"description\": \"\"\n      }\n    }\n  ]\n}"
            }
          },
          "metadata": {}
        },
        {
          "output_type": "display_data",
          "data": {
            "text/plain": [
              "                                      Nama Restoran Preferensi Makanan  \\\n",
              "289                         Burgerax, Patangpuluhan            Western   \n",
              "290  Shaburi & Kintan Buffet, Ambarukmo Plaza Yogya           Japanese   \n",
              "\n",
              "    Lokasi Restoran  Harga Rata-Rata Makanan di Toko (Rp)  Rating Toko  \\\n",
              "289         4.59 km                                 38000          4.7   \n",
              "290         3.67 km                                330000          4.8   \n",
              "\n",
              "    Jenis Suasana Toko Sering Diskon (Ya/Tidak)  \\\n",
              "289        Santai                         Tidak   \n",
              "290        Formal                         Tidak   \n",
              "\n",
              "                    Variasi Makanan Pelayanan Khusus Pasangan (Ya/Tidak)  \\\n",
              "289      Western, Snacks, Fast food                                Tidak   \n",
              "290  Japanese, Rice, Chicken & duck                                Tidak   \n",
              "\n",
              "     Entertainment  Keramaian Restoran Disajikan atau Ambil Sendiri  \\\n",
              "289              4                   3                    Disajikan   \n",
              "290              1                   2                Ambil Sendiri   \n",
              "\n",
              "    All You Can Eat atau Ala Carte  \n",
              "289                      Ala Carte  \n",
              "290                All You Can Eat  "
            ],
            "text/html": [
              "\n",
              "  <div id=\"df-7776130d-177c-4f2a-802b-0b26d9566f49\" class=\"colab-df-container\">\n",
              "    <div>\n",
              "<style scoped>\n",
              "    .dataframe tbody tr th:only-of-type {\n",
              "        vertical-align: middle;\n",
              "    }\n",
              "\n",
              "    .dataframe tbody tr th {\n",
              "        vertical-align: top;\n",
              "    }\n",
              "\n",
              "    .dataframe thead th {\n",
              "        text-align: right;\n",
              "    }\n",
              "</style>\n",
              "<table border=\"1\" class=\"dataframe\">\n",
              "  <thead>\n",
              "    <tr style=\"text-align: right;\">\n",
              "      <th></th>\n",
              "      <th>Nama Restoran</th>\n",
              "      <th>Preferensi Makanan</th>\n",
              "      <th>Lokasi Restoran</th>\n",
              "      <th>Harga Rata-Rata Makanan di Toko (Rp)</th>\n",
              "      <th>Rating Toko</th>\n",
              "      <th>Jenis Suasana</th>\n",
              "      <th>Toko Sering Diskon (Ya/Tidak)</th>\n",
              "      <th>Variasi Makanan</th>\n",
              "      <th>Pelayanan Khusus Pasangan (Ya/Tidak)</th>\n",
              "      <th>Entertainment</th>\n",
              "      <th>Keramaian Restoran</th>\n",
              "      <th>Disajikan atau Ambil Sendiri</th>\n",
              "      <th>All You Can Eat atau Ala Carte</th>\n",
              "    </tr>\n",
              "  </thead>\n",
              "  <tbody>\n",
              "    <tr>\n",
              "      <th>289</th>\n",
              "      <td>Burgerax, Patangpuluhan</td>\n",
              "      <td>Western</td>\n",
              "      <td>4.59 km</td>\n",
              "      <td>38000</td>\n",
              "      <td>4.7</td>\n",
              "      <td>Santai</td>\n",
              "      <td>Tidak</td>\n",
              "      <td>Western, Snacks, Fast food</td>\n",
              "      <td>Tidak</td>\n",
              "      <td>4</td>\n",
              "      <td>3</td>\n",
              "      <td>Disajikan</td>\n",
              "      <td>Ala Carte</td>\n",
              "    </tr>\n",
              "    <tr>\n",
              "      <th>290</th>\n",
              "      <td>Shaburi &amp; Kintan Buffet, Ambarukmo Plaza Yogya</td>\n",
              "      <td>Japanese</td>\n",
              "      <td>3.67 km</td>\n",
              "      <td>330000</td>\n",
              "      <td>4.8</td>\n",
              "      <td>Formal</td>\n",
              "      <td>Tidak</td>\n",
              "      <td>Japanese, Rice, Chicken &amp; duck</td>\n",
              "      <td>Tidak</td>\n",
              "      <td>1</td>\n",
              "      <td>2</td>\n",
              "      <td>Ambil Sendiri</td>\n",
              "      <td>All You Can Eat</td>\n",
              "    </tr>\n",
              "  </tbody>\n",
              "</table>\n",
              "</div>\n",
              "    <div class=\"colab-df-buttons\">\n",
              "\n",
              "  <div class=\"colab-df-container\">\n",
              "    <button class=\"colab-df-convert\" onclick=\"convertToInteractive('df-7776130d-177c-4f2a-802b-0b26d9566f49')\"\n",
              "            title=\"Convert this dataframe to an interactive table.\"\n",
              "            style=\"display:none;\">\n",
              "\n",
              "  <svg xmlns=\"http://www.w3.org/2000/svg\" height=\"24px\" viewBox=\"0 -960 960 960\">\n",
              "    <path d=\"M120-120v-720h720v720H120Zm60-500h600v-160H180v160Zm220 220h160v-160H400v160Zm0 220h160v-160H400v160ZM180-400h160v-160H180v160Zm440 0h160v-160H620v160ZM180-180h160v-160H180v160Zm440 0h160v-160H620v160Z\"/>\n",
              "  </svg>\n",
              "    </button>\n",
              "\n",
              "  <style>\n",
              "    .colab-df-container {\n",
              "      display:flex;\n",
              "      gap: 12px;\n",
              "    }\n",
              "\n",
              "    .colab-df-convert {\n",
              "      background-color: #E8F0FE;\n",
              "      border: none;\n",
              "      border-radius: 50%;\n",
              "      cursor: pointer;\n",
              "      display: none;\n",
              "      fill: #1967D2;\n",
              "      height: 32px;\n",
              "      padding: 0 0 0 0;\n",
              "      width: 32px;\n",
              "    }\n",
              "\n",
              "    .colab-df-convert:hover {\n",
              "      background-color: #E2EBFA;\n",
              "      box-shadow: 0px 1px 2px rgba(60, 64, 67, 0.3), 0px 1px 3px 1px rgba(60, 64, 67, 0.15);\n",
              "      fill: #174EA6;\n",
              "    }\n",
              "\n",
              "    .colab-df-buttons div {\n",
              "      margin-bottom: 4px;\n",
              "    }\n",
              "\n",
              "    [theme=dark] .colab-df-convert {\n",
              "      background-color: #3B4455;\n",
              "      fill: #D2E3FC;\n",
              "    }\n",
              "\n",
              "    [theme=dark] .colab-df-convert:hover {\n",
              "      background-color: #434B5C;\n",
              "      box-shadow: 0px 1px 3px 1px rgba(0, 0, 0, 0.15);\n",
              "      filter: drop-shadow(0px 1px 2px rgba(0, 0, 0, 0.3));\n",
              "      fill: #FFFFFF;\n",
              "    }\n",
              "  </style>\n",
              "\n",
              "    <script>\n",
              "      const buttonEl =\n",
              "        document.querySelector('#df-7776130d-177c-4f2a-802b-0b26d9566f49 button.colab-df-convert');\n",
              "      buttonEl.style.display =\n",
              "        google.colab.kernel.accessAllowed ? 'block' : 'none';\n",
              "\n",
              "      async function convertToInteractive(key) {\n",
              "        const element = document.querySelector('#df-7776130d-177c-4f2a-802b-0b26d9566f49');\n",
              "        const dataTable =\n",
              "          await google.colab.kernel.invokeFunction('convertToInteractive',\n",
              "                                                    [key], {});\n",
              "        if (!dataTable) return;\n",
              "\n",
              "        const docLinkHtml = 'Like what you see? Visit the ' +\n",
              "          '<a target=\"_blank\" href=https://colab.research.google.com/notebooks/data_table.ipynb>data table notebook</a>'\n",
              "          + ' to learn more about interactive tables.';\n",
              "        element.innerHTML = '';\n",
              "        dataTable['output_type'] = 'display_data';\n",
              "        await google.colab.output.renderOutput(dataTable, element);\n",
              "        const docLink = document.createElement('div');\n",
              "        docLink.innerHTML = docLinkHtml;\n",
              "        element.appendChild(docLink);\n",
              "      }\n",
              "    </script>\n",
              "  </div>\n",
              "\n",
              "\n",
              "<div id=\"df-166587aa-cd2a-4383-a6aa-f2932bfc363c\">\n",
              "  <button class=\"colab-df-quickchart\" onclick=\"quickchart('df-166587aa-cd2a-4383-a6aa-f2932bfc363c')\"\n",
              "            title=\"Suggest charts\"\n",
              "            style=\"display:none;\">\n",
              "\n",
              "<svg xmlns=\"http://www.w3.org/2000/svg\" height=\"24px\"viewBox=\"0 0 24 24\"\n",
              "     width=\"24px\">\n",
              "    <g>\n",
              "        <path d=\"M19 3H5c-1.1 0-2 .9-2 2v14c0 1.1.9 2 2 2h14c1.1 0 2-.9 2-2V5c0-1.1-.9-2-2-2zM9 17H7v-7h2v7zm4 0h-2V7h2v10zm4 0h-2v-4h2v4z\"/>\n",
              "    </g>\n",
              "</svg>\n",
              "  </button>\n",
              "\n",
              "<style>\n",
              "  .colab-df-quickchart {\n",
              "      --bg-color: #E8F0FE;\n",
              "      --fill-color: #1967D2;\n",
              "      --hover-bg-color: #E2EBFA;\n",
              "      --hover-fill-color: #174EA6;\n",
              "      --disabled-fill-color: #AAA;\n",
              "      --disabled-bg-color: #DDD;\n",
              "  }\n",
              "\n",
              "  [theme=dark] .colab-df-quickchart {\n",
              "      --bg-color: #3B4455;\n",
              "      --fill-color: #D2E3FC;\n",
              "      --hover-bg-color: #434B5C;\n",
              "      --hover-fill-color: #FFFFFF;\n",
              "      --disabled-bg-color: #3B4455;\n",
              "      --disabled-fill-color: #666;\n",
              "  }\n",
              "\n",
              "  .colab-df-quickchart {\n",
              "    background-color: var(--bg-color);\n",
              "    border: none;\n",
              "    border-radius: 50%;\n",
              "    cursor: pointer;\n",
              "    display: none;\n",
              "    fill: var(--fill-color);\n",
              "    height: 32px;\n",
              "    padding: 0;\n",
              "    width: 32px;\n",
              "  }\n",
              "\n",
              "  .colab-df-quickchart:hover {\n",
              "    background-color: var(--hover-bg-color);\n",
              "    box-shadow: 0 1px 2px rgba(60, 64, 67, 0.3), 0 1px 3px 1px rgba(60, 64, 67, 0.15);\n",
              "    fill: var(--button-hover-fill-color);\n",
              "  }\n",
              "\n",
              "  .colab-df-quickchart-complete:disabled,\n",
              "  .colab-df-quickchart-complete:disabled:hover {\n",
              "    background-color: var(--disabled-bg-color);\n",
              "    fill: var(--disabled-fill-color);\n",
              "    box-shadow: none;\n",
              "  }\n",
              "\n",
              "  .colab-df-spinner {\n",
              "    border: 2px solid var(--fill-color);\n",
              "    border-color: transparent;\n",
              "    border-bottom-color: var(--fill-color);\n",
              "    animation:\n",
              "      spin 1s steps(1) infinite;\n",
              "  }\n",
              "\n",
              "  @keyframes spin {\n",
              "    0% {\n",
              "      border-color: transparent;\n",
              "      border-bottom-color: var(--fill-color);\n",
              "      border-left-color: var(--fill-color);\n",
              "    }\n",
              "    20% {\n",
              "      border-color: transparent;\n",
              "      border-left-color: var(--fill-color);\n",
              "      border-top-color: var(--fill-color);\n",
              "    }\n",
              "    30% {\n",
              "      border-color: transparent;\n",
              "      border-left-color: var(--fill-color);\n",
              "      border-top-color: var(--fill-color);\n",
              "      border-right-color: var(--fill-color);\n",
              "    }\n",
              "    40% {\n",
              "      border-color: transparent;\n",
              "      border-right-color: var(--fill-color);\n",
              "      border-top-color: var(--fill-color);\n",
              "    }\n",
              "    60% {\n",
              "      border-color: transparent;\n",
              "      border-right-color: var(--fill-color);\n",
              "    }\n",
              "    80% {\n",
              "      border-color: transparent;\n",
              "      border-right-color: var(--fill-color);\n",
              "      border-bottom-color: var(--fill-color);\n",
              "    }\n",
              "    90% {\n",
              "      border-color: transparent;\n",
              "      border-bottom-color: var(--fill-color);\n",
              "    }\n",
              "  }\n",
              "</style>\n",
              "\n",
              "  <script>\n",
              "    async function quickchart(key) {\n",
              "      const quickchartButtonEl =\n",
              "        document.querySelector('#' + key + ' button');\n",
              "      quickchartButtonEl.disabled = true;  // To prevent multiple clicks.\n",
              "      quickchartButtonEl.classList.add('colab-df-spinner');\n",
              "      try {\n",
              "        const charts = await google.colab.kernel.invokeFunction(\n",
              "            'suggestCharts', [key], {});\n",
              "      } catch (error) {\n",
              "        console.error('Error during call to suggestCharts:', error);\n",
              "      }\n",
              "      quickchartButtonEl.classList.remove('colab-df-spinner');\n",
              "      quickchartButtonEl.classList.add('colab-df-quickchart-complete');\n",
              "    }\n",
              "    (() => {\n",
              "      let quickchartButtonEl =\n",
              "        document.querySelector('#df-166587aa-cd2a-4383-a6aa-f2932bfc363c button');\n",
              "      quickchartButtonEl.style.display =\n",
              "        google.colab.kernel.accessAllowed ? 'block' : 'none';\n",
              "    })();\n",
              "  </script>\n",
              "</div>\n",
              "    </div>\n",
              "  </div>\n"
            ],
            "application/vnd.google.colaboratory.intrinsic+json": {
              "type": "dataframe",
              "summary": "{\n  \"name\": \"display(df\",\n  \"rows\": 2,\n  \"fields\": [\n    {\n      \"column\": \"Nama Restoran\",\n      \"properties\": {\n        \"dtype\": \"string\",\n        \"num_unique_values\": 2,\n        \"samples\": [\n          \"Shaburi & Kintan Buffet, Ambarukmo Plaza Yogya\",\n          \"Burgerax, Patangpuluhan\"\n        ],\n        \"semantic_type\": \"\",\n        \"description\": \"\"\n      }\n    },\n    {\n      \"column\": \"Preferensi Makanan\",\n      \"properties\": {\n        \"dtype\": \"string\",\n        \"num_unique_values\": 2,\n        \"samples\": [\n          \"Japanese\",\n          \"Western\"\n        ],\n        \"semantic_type\": \"\",\n        \"description\": \"\"\n      }\n    },\n    {\n      \"column\": \"Lokasi Restoran\",\n      \"properties\": {\n        \"dtype\": \"string\",\n        \"num_unique_values\": 2,\n        \"samples\": [\n          \"3.67 km\",\n          \"4.59 km\"\n        ],\n        \"semantic_type\": \"\",\n        \"description\": \"\"\n      }\n    },\n    {\n      \"column\": \"Harga Rata-Rata Makanan di Toko (Rp)\",\n      \"properties\": {\n        \"dtype\": \"number\",\n        \"std\": 206475,\n        \"min\": 38000,\n        \"max\": 330000,\n        \"num_unique_values\": 2,\n        \"samples\": [\n          330000,\n          38000\n        ],\n        \"semantic_type\": \"\",\n        \"description\": \"\"\n      }\n    },\n    {\n      \"column\": \"Rating Toko\",\n      \"properties\": {\n        \"dtype\": \"number\",\n        \"std\": 0.0707106781186545,\n        \"min\": 4.7,\n        \"max\": 4.8,\n        \"num_unique_values\": 2,\n        \"samples\": [\n          4.8,\n          4.7\n        ],\n        \"semantic_type\": \"\",\n        \"description\": \"\"\n      }\n    },\n    {\n      \"column\": \"Jenis Suasana\",\n      \"properties\": {\n        \"dtype\": \"string\",\n        \"num_unique_values\": 2,\n        \"samples\": [\n          \"Formal\",\n          \"Santai\"\n        ],\n        \"semantic_type\": \"\",\n        \"description\": \"\"\n      }\n    },\n    {\n      \"column\": \"Toko Sering Diskon (Ya/Tidak)\",\n      \"properties\": {\n        \"dtype\": \"string\",\n        \"num_unique_values\": 1,\n        \"samples\": [\n          \"Tidak\"\n        ],\n        \"semantic_type\": \"\",\n        \"description\": \"\"\n      }\n    },\n    {\n      \"column\": \"Variasi Makanan\",\n      \"properties\": {\n        \"dtype\": \"string\",\n        \"num_unique_values\": 2,\n        \"samples\": [\n          \"Japanese, Rice, Chicken & duck\"\n        ],\n        \"semantic_type\": \"\",\n        \"description\": \"\"\n      }\n    },\n    {\n      \"column\": \"Pelayanan Khusus Pasangan (Ya/Tidak)\",\n      \"properties\": {\n        \"dtype\": \"string\",\n        \"num_unique_values\": 1,\n        \"samples\": [\n          \"Tidak\"\n        ],\n        \"semantic_type\": \"\",\n        \"description\": \"\"\n      }\n    },\n    {\n      \"column\": \"Entertainment\",\n      \"properties\": {\n        \"dtype\": \"number\",\n        \"std\": 2,\n        \"min\": 1,\n        \"max\": 4,\n        \"num_unique_values\": 2,\n        \"samples\": [\n          1\n        ],\n        \"semantic_type\": \"\",\n        \"description\": \"\"\n      }\n    },\n    {\n      \"column\": \"Keramaian Restoran\",\n      \"properties\": {\n        \"dtype\": \"number\",\n        \"std\": 0,\n        \"min\": 2,\n        \"max\": 3,\n        \"num_unique_values\": 2,\n        \"samples\": [\n          2\n        ],\n        \"semantic_type\": \"\",\n        \"description\": \"\"\n      }\n    },\n    {\n      \"column\": \"Disajikan atau Ambil Sendiri\",\n      \"properties\": {\n        \"dtype\": \"string\",\n        \"num_unique_values\": 2,\n        \"samples\": [\n          \"Ambil Sendiri\"\n        ],\n        \"semantic_type\": \"\",\n        \"description\": \"\"\n      }\n    },\n    {\n      \"column\": \"All You Can Eat atau Ala Carte\",\n      \"properties\": {\n        \"dtype\": \"string\",\n        \"num_unique_values\": 2,\n        \"samples\": [\n          \"All You Can Eat\"\n        ],\n        \"semantic_type\": \"\",\n        \"description\": \"\"\n      }\n    }\n  ]\n}"
            }
          },
          "metadata": {}
        },
        {
          "output_type": "display_data",
          "data": {
            "text/plain": [
              "                                         Nama Restoran Preferensi Makanan  \\\n",
              "15      Soto Pak Zaenal Barokah, Warungboto Umbulharjo          Indonesia   \n",
              "63                            Nikkou Ramen, Pakualaman           Japanese   \n",
              "211  Nasi Mangkok Uncle Dave, Depok/Caturtunggal/Se...           Japanese   \n",
              "51                               Seafood 99, Wonocatur            Chinese   \n",
              "\n",
              "    Lokasi Restoran  Harga Rata-Rata Makanan di Toko (Rp)  Rating Toko  \\\n",
              "15          0.65 km                                 15000          4.5   \n",
              "63          1.64 km                                 32000          4.2   \n",
              "211         5.89 km                                 21000          4.6   \n",
              "51          2.33 km                                 23000          4.7   \n",
              "\n",
              "    Jenis Suasana Toko Sering Diskon (Ya/Tidak)               Variasi Makanan  \\\n",
              "15         Santai                         Tidak         Minuman, Bakso & soto   \n",
              "63         Santai                         Tidak       Rice, Noodles, Japanese   \n",
              "211        Santai                         Tidak     Rice, Fast food, Japanese   \n",
              "51         Santai                         Tidak  Chinese, Seafood, Aneka nasi   \n",
              "\n",
              "    Pelayanan Khusus Pasangan (Ya/Tidak)  Entertainment  Keramaian Restoran  \\\n",
              "15                                 Tidak              4                   2   \n",
              "63                                 Tidak              4                   3   \n",
              "211                                Tidak              3                   1   \n",
              "51                                 Tidak              1                   1   \n",
              "\n",
              "    Disajikan atau Ambil Sendiri All You Can Eat atau Ala Carte  \n",
              "15                     Disajikan                      Ala Carte  \n",
              "63                     Disajikan                      Ala Carte  \n",
              "211                    Disajikan                      Ala Carte  \n",
              "51                     Disajikan                      Ala Carte  "
            ],
            "text/html": [
              "\n",
              "  <div id=\"df-ceaef575-a5c7-4d1d-852c-5786ea78b9e9\" class=\"colab-df-container\">\n",
              "    <div>\n",
              "<style scoped>\n",
              "    .dataframe tbody tr th:only-of-type {\n",
              "        vertical-align: middle;\n",
              "    }\n",
              "\n",
              "    .dataframe tbody tr th {\n",
              "        vertical-align: top;\n",
              "    }\n",
              "\n",
              "    .dataframe thead th {\n",
              "        text-align: right;\n",
              "    }\n",
              "</style>\n",
              "<table border=\"1\" class=\"dataframe\">\n",
              "  <thead>\n",
              "    <tr style=\"text-align: right;\">\n",
              "      <th></th>\n",
              "      <th>Nama Restoran</th>\n",
              "      <th>Preferensi Makanan</th>\n",
              "      <th>Lokasi Restoran</th>\n",
              "      <th>Harga Rata-Rata Makanan di Toko (Rp)</th>\n",
              "      <th>Rating Toko</th>\n",
              "      <th>Jenis Suasana</th>\n",
              "      <th>Toko Sering Diskon (Ya/Tidak)</th>\n",
              "      <th>Variasi Makanan</th>\n",
              "      <th>Pelayanan Khusus Pasangan (Ya/Tidak)</th>\n",
              "      <th>Entertainment</th>\n",
              "      <th>Keramaian Restoran</th>\n",
              "      <th>Disajikan atau Ambil Sendiri</th>\n",
              "      <th>All You Can Eat atau Ala Carte</th>\n",
              "    </tr>\n",
              "  </thead>\n",
              "  <tbody>\n",
              "    <tr>\n",
              "      <th>15</th>\n",
              "      <td>Soto Pak Zaenal Barokah, Warungboto Umbulharjo</td>\n",
              "      <td>Indonesia</td>\n",
              "      <td>0.65 km</td>\n",
              "      <td>15000</td>\n",
              "      <td>4.5</td>\n",
              "      <td>Santai</td>\n",
              "      <td>Tidak</td>\n",
              "      <td>Minuman, Bakso &amp; soto</td>\n",
              "      <td>Tidak</td>\n",
              "      <td>4</td>\n",
              "      <td>2</td>\n",
              "      <td>Disajikan</td>\n",
              "      <td>Ala Carte</td>\n",
              "    </tr>\n",
              "    <tr>\n",
              "      <th>63</th>\n",
              "      <td>Nikkou Ramen, Pakualaman</td>\n",
              "      <td>Japanese</td>\n",
              "      <td>1.64 km</td>\n",
              "      <td>32000</td>\n",
              "      <td>4.2</td>\n",
              "      <td>Santai</td>\n",
              "      <td>Tidak</td>\n",
              "      <td>Rice, Noodles, Japanese</td>\n",
              "      <td>Tidak</td>\n",
              "      <td>4</td>\n",
              "      <td>3</td>\n",
              "      <td>Disajikan</td>\n",
              "      <td>Ala Carte</td>\n",
              "    </tr>\n",
              "    <tr>\n",
              "      <th>211</th>\n",
              "      <td>Nasi Mangkok Uncle Dave, Depok/Caturtunggal/Se...</td>\n",
              "      <td>Japanese</td>\n",
              "      <td>5.89 km</td>\n",
              "      <td>21000</td>\n",
              "      <td>4.6</td>\n",
              "      <td>Santai</td>\n",
              "      <td>Tidak</td>\n",
              "      <td>Rice, Fast food, Japanese</td>\n",
              "      <td>Tidak</td>\n",
              "      <td>3</td>\n",
              "      <td>1</td>\n",
              "      <td>Disajikan</td>\n",
              "      <td>Ala Carte</td>\n",
              "    </tr>\n",
              "    <tr>\n",
              "      <th>51</th>\n",
              "      <td>Seafood 99, Wonocatur</td>\n",
              "      <td>Chinese</td>\n",
              "      <td>2.33 km</td>\n",
              "      <td>23000</td>\n",
              "      <td>4.7</td>\n",
              "      <td>Santai</td>\n",
              "      <td>Tidak</td>\n",
              "      <td>Chinese, Seafood, Aneka nasi</td>\n",
              "      <td>Tidak</td>\n",
              "      <td>1</td>\n",
              "      <td>1</td>\n",
              "      <td>Disajikan</td>\n",
              "      <td>Ala Carte</td>\n",
              "    </tr>\n",
              "  </tbody>\n",
              "</table>\n",
              "</div>\n",
              "    <div class=\"colab-df-buttons\">\n",
              "\n",
              "  <div class=\"colab-df-container\">\n",
              "    <button class=\"colab-df-convert\" onclick=\"convertToInteractive('df-ceaef575-a5c7-4d1d-852c-5786ea78b9e9')\"\n",
              "            title=\"Convert this dataframe to an interactive table.\"\n",
              "            style=\"display:none;\">\n",
              "\n",
              "  <svg xmlns=\"http://www.w3.org/2000/svg\" height=\"24px\" viewBox=\"0 -960 960 960\">\n",
              "    <path d=\"M120-120v-720h720v720H120Zm60-500h600v-160H180v160Zm220 220h160v-160H400v160Zm0 220h160v-160H400v160ZM180-400h160v-160H180v160Zm440 0h160v-160H620v160ZM180-180h160v-160H180v160Zm440 0h160v-160H620v160Z\"/>\n",
              "  </svg>\n",
              "    </button>\n",
              "\n",
              "  <style>\n",
              "    .colab-df-container {\n",
              "      display:flex;\n",
              "      gap: 12px;\n",
              "    }\n",
              "\n",
              "    .colab-df-convert {\n",
              "      background-color: #E8F0FE;\n",
              "      border: none;\n",
              "      border-radius: 50%;\n",
              "      cursor: pointer;\n",
              "      display: none;\n",
              "      fill: #1967D2;\n",
              "      height: 32px;\n",
              "      padding: 0 0 0 0;\n",
              "      width: 32px;\n",
              "    }\n",
              "\n",
              "    .colab-df-convert:hover {\n",
              "      background-color: #E2EBFA;\n",
              "      box-shadow: 0px 1px 2px rgba(60, 64, 67, 0.3), 0px 1px 3px 1px rgba(60, 64, 67, 0.15);\n",
              "      fill: #174EA6;\n",
              "    }\n",
              "\n",
              "    .colab-df-buttons div {\n",
              "      margin-bottom: 4px;\n",
              "    }\n",
              "\n",
              "    [theme=dark] .colab-df-convert {\n",
              "      background-color: #3B4455;\n",
              "      fill: #D2E3FC;\n",
              "    }\n",
              "\n",
              "    [theme=dark] .colab-df-convert:hover {\n",
              "      background-color: #434B5C;\n",
              "      box-shadow: 0px 1px 3px 1px rgba(0, 0, 0, 0.15);\n",
              "      filter: drop-shadow(0px 1px 2px rgba(0, 0, 0, 0.3));\n",
              "      fill: #FFFFFF;\n",
              "    }\n",
              "  </style>\n",
              "\n",
              "    <script>\n",
              "      const buttonEl =\n",
              "        document.querySelector('#df-ceaef575-a5c7-4d1d-852c-5786ea78b9e9 button.colab-df-convert');\n",
              "      buttonEl.style.display =\n",
              "        google.colab.kernel.accessAllowed ? 'block' : 'none';\n",
              "\n",
              "      async function convertToInteractive(key) {\n",
              "        const element = document.querySelector('#df-ceaef575-a5c7-4d1d-852c-5786ea78b9e9');\n",
              "        const dataTable =\n",
              "          await google.colab.kernel.invokeFunction('convertToInteractive',\n",
              "                                                    [key], {});\n",
              "        if (!dataTable) return;\n",
              "\n",
              "        const docLinkHtml = 'Like what you see? Visit the ' +\n",
              "          '<a target=\"_blank\" href=https://colab.research.google.com/notebooks/data_table.ipynb>data table notebook</a>'\n",
              "          + ' to learn more about interactive tables.';\n",
              "        element.innerHTML = '';\n",
              "        dataTable['output_type'] = 'display_data';\n",
              "        await google.colab.output.renderOutput(dataTable, element);\n",
              "        const docLink = document.createElement('div');\n",
              "        docLink.innerHTML = docLinkHtml;\n",
              "        element.appendChild(docLink);\n",
              "      }\n",
              "    </script>\n",
              "  </div>\n",
              "\n",
              "\n",
              "<div id=\"df-665ee862-687f-4b91-9429-9377b9c0b6e8\">\n",
              "  <button class=\"colab-df-quickchart\" onclick=\"quickchart('df-665ee862-687f-4b91-9429-9377b9c0b6e8')\"\n",
              "            title=\"Suggest charts\"\n",
              "            style=\"display:none;\">\n",
              "\n",
              "<svg xmlns=\"http://www.w3.org/2000/svg\" height=\"24px\"viewBox=\"0 0 24 24\"\n",
              "     width=\"24px\">\n",
              "    <g>\n",
              "        <path d=\"M19 3H5c-1.1 0-2 .9-2 2v14c0 1.1.9 2 2 2h14c1.1 0 2-.9 2-2V5c0-1.1-.9-2-2-2zM9 17H7v-7h2v7zm4 0h-2V7h2v10zm4 0h-2v-4h2v4z\"/>\n",
              "    </g>\n",
              "</svg>\n",
              "  </button>\n",
              "\n",
              "<style>\n",
              "  .colab-df-quickchart {\n",
              "      --bg-color: #E8F0FE;\n",
              "      --fill-color: #1967D2;\n",
              "      --hover-bg-color: #E2EBFA;\n",
              "      --hover-fill-color: #174EA6;\n",
              "      --disabled-fill-color: #AAA;\n",
              "      --disabled-bg-color: #DDD;\n",
              "  }\n",
              "\n",
              "  [theme=dark] .colab-df-quickchart {\n",
              "      --bg-color: #3B4455;\n",
              "      --fill-color: #D2E3FC;\n",
              "      --hover-bg-color: #434B5C;\n",
              "      --hover-fill-color: #FFFFFF;\n",
              "      --disabled-bg-color: #3B4455;\n",
              "      --disabled-fill-color: #666;\n",
              "  }\n",
              "\n",
              "  .colab-df-quickchart {\n",
              "    background-color: var(--bg-color);\n",
              "    border: none;\n",
              "    border-radius: 50%;\n",
              "    cursor: pointer;\n",
              "    display: none;\n",
              "    fill: var(--fill-color);\n",
              "    height: 32px;\n",
              "    padding: 0;\n",
              "    width: 32px;\n",
              "  }\n",
              "\n",
              "  .colab-df-quickchart:hover {\n",
              "    background-color: var(--hover-bg-color);\n",
              "    box-shadow: 0 1px 2px rgba(60, 64, 67, 0.3), 0 1px 3px 1px rgba(60, 64, 67, 0.15);\n",
              "    fill: var(--button-hover-fill-color);\n",
              "  }\n",
              "\n",
              "  .colab-df-quickchart-complete:disabled,\n",
              "  .colab-df-quickchart-complete:disabled:hover {\n",
              "    background-color: var(--disabled-bg-color);\n",
              "    fill: var(--disabled-fill-color);\n",
              "    box-shadow: none;\n",
              "  }\n",
              "\n",
              "  .colab-df-spinner {\n",
              "    border: 2px solid var(--fill-color);\n",
              "    border-color: transparent;\n",
              "    border-bottom-color: var(--fill-color);\n",
              "    animation:\n",
              "      spin 1s steps(1) infinite;\n",
              "  }\n",
              "\n",
              "  @keyframes spin {\n",
              "    0% {\n",
              "      border-color: transparent;\n",
              "      border-bottom-color: var(--fill-color);\n",
              "      border-left-color: var(--fill-color);\n",
              "    }\n",
              "    20% {\n",
              "      border-color: transparent;\n",
              "      border-left-color: var(--fill-color);\n",
              "      border-top-color: var(--fill-color);\n",
              "    }\n",
              "    30% {\n",
              "      border-color: transparent;\n",
              "      border-left-color: var(--fill-color);\n",
              "      border-top-color: var(--fill-color);\n",
              "      border-right-color: var(--fill-color);\n",
              "    }\n",
              "    40% {\n",
              "      border-color: transparent;\n",
              "      border-right-color: var(--fill-color);\n",
              "      border-top-color: var(--fill-color);\n",
              "    }\n",
              "    60% {\n",
              "      border-color: transparent;\n",
              "      border-right-color: var(--fill-color);\n",
              "    }\n",
              "    80% {\n",
              "      border-color: transparent;\n",
              "      border-right-color: var(--fill-color);\n",
              "      border-bottom-color: var(--fill-color);\n",
              "    }\n",
              "    90% {\n",
              "      border-color: transparent;\n",
              "      border-bottom-color: var(--fill-color);\n",
              "    }\n",
              "  }\n",
              "</style>\n",
              "\n",
              "  <script>\n",
              "    async function quickchart(key) {\n",
              "      const quickchartButtonEl =\n",
              "        document.querySelector('#' + key + ' button');\n",
              "      quickchartButtonEl.disabled = true;  // To prevent multiple clicks.\n",
              "      quickchartButtonEl.classList.add('colab-df-spinner');\n",
              "      try {\n",
              "        const charts = await google.colab.kernel.invokeFunction(\n",
              "            'suggestCharts', [key], {});\n",
              "      } catch (error) {\n",
              "        console.error('Error during call to suggestCharts:', error);\n",
              "      }\n",
              "      quickchartButtonEl.classList.remove('colab-df-spinner');\n",
              "      quickchartButtonEl.classList.add('colab-df-quickchart-complete');\n",
              "    }\n",
              "    (() => {\n",
              "      let quickchartButtonEl =\n",
              "        document.querySelector('#df-665ee862-687f-4b91-9429-9377b9c0b6e8 button');\n",
              "      quickchartButtonEl.style.display =\n",
              "        google.colab.kernel.accessAllowed ? 'block' : 'none';\n",
              "    })();\n",
              "  </script>\n",
              "</div>\n",
              "    </div>\n",
              "  </div>\n"
            ],
            "application/vnd.google.colaboratory.intrinsic+json": {
              "type": "dataframe",
              "summary": "{\n  \"name\": \"display(df\",\n  \"rows\": 4,\n  \"fields\": [\n    {\n      \"column\": \"Nama Restoran\",\n      \"properties\": {\n        \"dtype\": \"string\",\n        \"num_unique_values\": 4,\n        \"samples\": [\n          \"Nikkou Ramen, Pakualaman\",\n          \"Seafood 99, Wonocatur\",\n          \"Soto Pak Zaenal Barokah, Warungboto Umbulharjo\"\n        ],\n        \"semantic_type\": \"\",\n        \"description\": \"\"\n      }\n    },\n    {\n      \"column\": \"Preferensi Makanan\",\n      \"properties\": {\n        \"dtype\": \"string\",\n        \"num_unique_values\": 3,\n        \"samples\": [\n          \"Indonesia\",\n          \"Japanese\",\n          \"Chinese\"\n        ],\n        \"semantic_type\": \"\",\n        \"description\": \"\"\n      }\n    },\n    {\n      \"column\": \"Lokasi Restoran\",\n      \"properties\": {\n        \"dtype\": \"string\",\n        \"num_unique_values\": 4,\n        \"samples\": [\n          \"1.64 km\",\n          \"2.33 km\",\n          \"0.65 km\"\n        ],\n        \"semantic_type\": \"\",\n        \"description\": \"\"\n      }\n    },\n    {\n      \"column\": \"Harga Rata-Rata Makanan di Toko (Rp)\",\n      \"properties\": {\n        \"dtype\": \"number\",\n        \"std\": 7041,\n        \"min\": 15000,\n        \"max\": 32000,\n        \"num_unique_values\": 4,\n        \"samples\": [\n          32000,\n          23000,\n          15000\n        ],\n        \"semantic_type\": \"\",\n        \"description\": \"\"\n      }\n    },\n    {\n      \"column\": \"Rating Toko\",\n      \"properties\": {\n        \"dtype\": \"number\",\n        \"std\": 0.2160246899469286,\n        \"min\": 4.2,\n        \"max\": 4.7,\n        \"num_unique_values\": 4,\n        \"samples\": [\n          4.2,\n          4.7,\n          4.5\n        ],\n        \"semantic_type\": \"\",\n        \"description\": \"\"\n      }\n    },\n    {\n      \"column\": \"Jenis Suasana\",\n      \"properties\": {\n        \"dtype\": \"category\",\n        \"num_unique_values\": 1,\n        \"samples\": [\n          \"Santai\"\n        ],\n        \"semantic_type\": \"\",\n        \"description\": \"\"\n      }\n    },\n    {\n      \"column\": \"Toko Sering Diskon (Ya/Tidak)\",\n      \"properties\": {\n        \"dtype\": \"category\",\n        \"num_unique_values\": 1,\n        \"samples\": [\n          \"Tidak\"\n        ],\n        \"semantic_type\": \"\",\n        \"description\": \"\"\n      }\n    },\n    {\n      \"column\": \"Variasi Makanan\",\n      \"properties\": {\n        \"dtype\": \"string\",\n        \"num_unique_values\": 4,\n        \"samples\": [\n          \"Rice, Noodles, Japanese\"\n        ],\n        \"semantic_type\": \"\",\n        \"description\": \"\"\n      }\n    },\n    {\n      \"column\": \"Pelayanan Khusus Pasangan (Ya/Tidak)\",\n      \"properties\": {\n        \"dtype\": \"category\",\n        \"num_unique_values\": 1,\n        \"samples\": [\n          \"Tidak\"\n        ],\n        \"semantic_type\": \"\",\n        \"description\": \"\"\n      }\n    },\n    {\n      \"column\": \"Entertainment\",\n      \"properties\": {\n        \"dtype\": \"number\",\n        \"std\": 1,\n        \"min\": 1,\n        \"max\": 4,\n        \"num_unique_values\": 3,\n        \"samples\": [\n          4\n        ],\n        \"semantic_type\": \"\",\n        \"description\": \"\"\n      }\n    },\n    {\n      \"column\": \"Keramaian Restoran\",\n      \"properties\": {\n        \"dtype\": \"number\",\n        \"std\": 0,\n        \"min\": 1,\n        \"max\": 3,\n        \"num_unique_values\": 3,\n        \"samples\": [\n          2\n        ],\n        \"semantic_type\": \"\",\n        \"description\": \"\"\n      }\n    },\n    {\n      \"column\": \"Disajikan atau Ambil Sendiri\",\n      \"properties\": {\n        \"dtype\": \"category\",\n        \"num_unique_values\": 1,\n        \"samples\": [\n          \"Disajikan\"\n        ],\n        \"semantic_type\": \"\",\n        \"description\": \"\"\n      }\n    },\n    {\n      \"column\": \"All You Can Eat atau Ala Carte\",\n      \"properties\": {\n        \"dtype\": \"category\",\n        \"num_unique_values\": 1,\n        \"samples\": [\n          \"Ala Carte\"\n        ],\n        \"semantic_type\": \"\",\n        \"description\": \"\"\n      }\n    }\n  ]\n}"
            }
          },
          "metadata": {}
        }
      ]
    },
    {
      "cell_type": "markdown",
      "source": [
        "# **3.1 The shape of the dataset**"
      ],
      "metadata": {
        "id": "mKnNAwT_1koY"
      }
    },
    {
      "cell_type": "code",
      "source": [
        "#number of rows and colums\n",
        "df.shape"
      ],
      "metadata": {
        "colab": {
          "base_uri": "https://localhost:8080/"
        },
        "id": "h8TAuDSN1nQx",
        "outputId": "db24285f-b1a4-45a0-adff-41bd0deba711"
      },
      "execution_count": 6,
      "outputs": [
        {
          "output_type": "execute_result",
          "data": {
            "text/plain": [
              "(291, 13)"
            ]
          },
          "metadata": {},
          "execution_count": 6
        }
      ]
    },
    {
      "cell_type": "markdown",
      "source": [
        "# **3.2 List types of all coloumns**"
      ],
      "metadata": {
        "id": "NI2Q3J491tAG"
      }
    },
    {
      "cell_type": "code",
      "source": [
        "df.dtypes"
      ],
      "metadata": {
        "colab": {
          "base_uri": "https://localhost:8080/"
        },
        "id": "lPL1vXHr1zgf",
        "outputId": "4747c474-5a16-4f78-ef2b-b46ff372deb5"
      },
      "execution_count": 7,
      "outputs": [
        {
          "output_type": "execute_result",
          "data": {
            "text/plain": [
              "Nama Restoran                            object\n",
              "Preferensi Makanan                       object\n",
              "Lokasi Restoran                          object\n",
              "Harga Rata-Rata Makanan di Toko (Rp)      int64\n",
              "Rating Toko                             float64\n",
              "Jenis Suasana                            object\n",
              "Toko Sering Diskon (Ya/Tidak)            object\n",
              "Variasi Makanan                          object\n",
              "Pelayanan Khusus Pasangan (Ya/Tidak)     object\n",
              "Entertainment                             int64\n",
              "Keramaian Restoran                        int64\n",
              "Disajikan atau Ambil Sendiri             object\n",
              "All You Can Eat atau Ala Carte           object\n",
              "dtype: object"
            ]
          },
          "metadata": {},
          "execution_count": 7
        }
      ]
    },
    {
      "cell_type": "markdown",
      "source": [
        "# **3.3 Info of the dataset**"
      ],
      "metadata": {
        "id": "c6O99PNq17jp"
      }
    },
    {
      "cell_type": "code",
      "source": [
        "df.info()"
      ],
      "metadata": {
        "colab": {
          "base_uri": "https://localhost:8080/"
        },
        "id": "Tif2gt9o1_dh",
        "outputId": "235a30b6-598b-4ff9-c884-5e03efa7d636"
      },
      "execution_count": 8,
      "outputs": [
        {
          "output_type": "stream",
          "name": "stdout",
          "text": [
            "<class 'pandas.core.frame.DataFrame'>\n",
            "RangeIndex: 291 entries, 0 to 290\n",
            "Data columns (total 13 columns):\n",
            " #   Column                                Non-Null Count  Dtype  \n",
            "---  ------                                --------------  -----  \n",
            " 0   Nama Restoran                         291 non-null    object \n",
            " 1   Preferensi Makanan                    291 non-null    object \n",
            " 2   Lokasi Restoran                       291 non-null    object \n",
            " 3   Harga Rata-Rata Makanan di Toko (Rp)  291 non-null    int64  \n",
            " 4   Rating Toko                           291 non-null    float64\n",
            " 5   Jenis Suasana                         291 non-null    object \n",
            " 6   Toko Sering Diskon (Ya/Tidak)         291 non-null    object \n",
            " 7   Variasi Makanan                       291 non-null    object \n",
            " 8   Pelayanan Khusus Pasangan (Ya/Tidak)  291 non-null    object \n",
            " 9   Entertainment                         291 non-null    int64  \n",
            " 10  Keramaian Restoran                    291 non-null    int64  \n",
            " 11  Disajikan atau Ambil Sendiri          291 non-null    object \n",
            " 12  All You Can Eat atau Ala Carte        291 non-null    object \n",
            "dtypes: float64(1), int64(3), object(9)\n",
            "memory usage: 29.7+ KB\n"
          ]
        }
      ]
    },
    {
      "cell_type": "markdown",
      "source": [
        "# **3.4 Summary of the dataset**"
      ],
      "metadata": {
        "id": "EmD6uQEz2JI-"
      }
    },
    {
      "cell_type": "code",
      "source": [
        "df.describe()"
      ],
      "metadata": {
        "colab": {
          "base_uri": "https://localhost:8080/",
          "height": 300
        },
        "id": "qtIP7fPQ2K8U",
        "outputId": "ccc2d752-c366-4ac7-8356-e7892f94e78f"
      },
      "execution_count": 9,
      "outputs": [
        {
          "output_type": "execute_result",
          "data": {
            "text/plain": [
              "       Harga Rata-Rata Makanan di Toko (Rp)  Rating Toko  Entertainment  \\\n",
              "count                            291.000000   291.000000     291.000000   \n",
              "mean                           38766.323024     4.547423       2.518900   \n",
              "std                            28509.896041     0.262518       1.118259   \n",
              "min                            10000.000000     3.400000       1.000000   \n",
              "25%                            22000.000000     4.500000       2.000000   \n",
              "50%                            31000.000000     4.600000       3.000000   \n",
              "75%                            44500.000000     4.700000       3.500000   \n",
              "max                           330000.000000     4.900000       4.000000   \n",
              "\n",
              "       Keramaian Restoran  \n",
              "count          291.000000  \n",
              "mean             2.061856  \n",
              "std              0.798461  \n",
              "min              1.000000  \n",
              "25%              1.000000  \n",
              "50%              2.000000  \n",
              "75%              3.000000  \n",
              "max              3.000000  "
            ],
            "text/html": [
              "\n",
              "  <div id=\"df-38e3b895-bff9-4d80-a8d1-e7031f9218c5\" class=\"colab-df-container\">\n",
              "    <div>\n",
              "<style scoped>\n",
              "    .dataframe tbody tr th:only-of-type {\n",
              "        vertical-align: middle;\n",
              "    }\n",
              "\n",
              "    .dataframe tbody tr th {\n",
              "        vertical-align: top;\n",
              "    }\n",
              "\n",
              "    .dataframe thead th {\n",
              "        text-align: right;\n",
              "    }\n",
              "</style>\n",
              "<table border=\"1\" class=\"dataframe\">\n",
              "  <thead>\n",
              "    <tr style=\"text-align: right;\">\n",
              "      <th></th>\n",
              "      <th>Harga Rata-Rata Makanan di Toko (Rp)</th>\n",
              "      <th>Rating Toko</th>\n",
              "      <th>Entertainment</th>\n",
              "      <th>Keramaian Restoran</th>\n",
              "    </tr>\n",
              "  </thead>\n",
              "  <tbody>\n",
              "    <tr>\n",
              "      <th>count</th>\n",
              "      <td>291.000000</td>\n",
              "      <td>291.000000</td>\n",
              "      <td>291.000000</td>\n",
              "      <td>291.000000</td>\n",
              "    </tr>\n",
              "    <tr>\n",
              "      <th>mean</th>\n",
              "      <td>38766.323024</td>\n",
              "      <td>4.547423</td>\n",
              "      <td>2.518900</td>\n",
              "      <td>2.061856</td>\n",
              "    </tr>\n",
              "    <tr>\n",
              "      <th>std</th>\n",
              "      <td>28509.896041</td>\n",
              "      <td>0.262518</td>\n",
              "      <td>1.118259</td>\n",
              "      <td>0.798461</td>\n",
              "    </tr>\n",
              "    <tr>\n",
              "      <th>min</th>\n",
              "      <td>10000.000000</td>\n",
              "      <td>3.400000</td>\n",
              "      <td>1.000000</td>\n",
              "      <td>1.000000</td>\n",
              "    </tr>\n",
              "    <tr>\n",
              "      <th>25%</th>\n",
              "      <td>22000.000000</td>\n",
              "      <td>4.500000</td>\n",
              "      <td>2.000000</td>\n",
              "      <td>1.000000</td>\n",
              "    </tr>\n",
              "    <tr>\n",
              "      <th>50%</th>\n",
              "      <td>31000.000000</td>\n",
              "      <td>4.600000</td>\n",
              "      <td>3.000000</td>\n",
              "      <td>2.000000</td>\n",
              "    </tr>\n",
              "    <tr>\n",
              "      <th>75%</th>\n",
              "      <td>44500.000000</td>\n",
              "      <td>4.700000</td>\n",
              "      <td>3.500000</td>\n",
              "      <td>3.000000</td>\n",
              "    </tr>\n",
              "    <tr>\n",
              "      <th>max</th>\n",
              "      <td>330000.000000</td>\n",
              "      <td>4.900000</td>\n",
              "      <td>4.000000</td>\n",
              "      <td>3.000000</td>\n",
              "    </tr>\n",
              "  </tbody>\n",
              "</table>\n",
              "</div>\n",
              "    <div class=\"colab-df-buttons\">\n",
              "\n",
              "  <div class=\"colab-df-container\">\n",
              "    <button class=\"colab-df-convert\" onclick=\"convertToInteractive('df-38e3b895-bff9-4d80-a8d1-e7031f9218c5')\"\n",
              "            title=\"Convert this dataframe to an interactive table.\"\n",
              "            style=\"display:none;\">\n",
              "\n",
              "  <svg xmlns=\"http://www.w3.org/2000/svg\" height=\"24px\" viewBox=\"0 -960 960 960\">\n",
              "    <path d=\"M120-120v-720h720v720H120Zm60-500h600v-160H180v160Zm220 220h160v-160H400v160Zm0 220h160v-160H400v160ZM180-400h160v-160H180v160Zm440 0h160v-160H620v160ZM180-180h160v-160H180v160Zm440 0h160v-160H620v160Z\"/>\n",
              "  </svg>\n",
              "    </button>\n",
              "\n",
              "  <style>\n",
              "    .colab-df-container {\n",
              "      display:flex;\n",
              "      gap: 12px;\n",
              "    }\n",
              "\n",
              "    .colab-df-convert {\n",
              "      background-color: #E8F0FE;\n",
              "      border: none;\n",
              "      border-radius: 50%;\n",
              "      cursor: pointer;\n",
              "      display: none;\n",
              "      fill: #1967D2;\n",
              "      height: 32px;\n",
              "      padding: 0 0 0 0;\n",
              "      width: 32px;\n",
              "    }\n",
              "\n",
              "    .colab-df-convert:hover {\n",
              "      background-color: #E2EBFA;\n",
              "      box-shadow: 0px 1px 2px rgba(60, 64, 67, 0.3), 0px 1px 3px 1px rgba(60, 64, 67, 0.15);\n",
              "      fill: #174EA6;\n",
              "    }\n",
              "\n",
              "    .colab-df-buttons div {\n",
              "      margin-bottom: 4px;\n",
              "    }\n",
              "\n",
              "    [theme=dark] .colab-df-convert {\n",
              "      background-color: #3B4455;\n",
              "      fill: #D2E3FC;\n",
              "    }\n",
              "\n",
              "    [theme=dark] .colab-df-convert:hover {\n",
              "      background-color: #434B5C;\n",
              "      box-shadow: 0px 1px 3px 1px rgba(0, 0, 0, 0.15);\n",
              "      filter: drop-shadow(0px 1px 2px rgba(0, 0, 0, 0.3));\n",
              "      fill: #FFFFFF;\n",
              "    }\n",
              "  </style>\n",
              "\n",
              "    <script>\n",
              "      const buttonEl =\n",
              "        document.querySelector('#df-38e3b895-bff9-4d80-a8d1-e7031f9218c5 button.colab-df-convert');\n",
              "      buttonEl.style.display =\n",
              "        google.colab.kernel.accessAllowed ? 'block' : 'none';\n",
              "\n",
              "      async function convertToInteractive(key) {\n",
              "        const element = document.querySelector('#df-38e3b895-bff9-4d80-a8d1-e7031f9218c5');\n",
              "        const dataTable =\n",
              "          await google.colab.kernel.invokeFunction('convertToInteractive',\n",
              "                                                    [key], {});\n",
              "        if (!dataTable) return;\n",
              "\n",
              "        const docLinkHtml = 'Like what you see? Visit the ' +\n",
              "          '<a target=\"_blank\" href=https://colab.research.google.com/notebooks/data_table.ipynb>data table notebook</a>'\n",
              "          + ' to learn more about interactive tables.';\n",
              "        element.innerHTML = '';\n",
              "        dataTable['output_type'] = 'display_data';\n",
              "        await google.colab.output.renderOutput(dataTable, element);\n",
              "        const docLink = document.createElement('div');\n",
              "        docLink.innerHTML = docLinkHtml;\n",
              "        element.appendChild(docLink);\n",
              "      }\n",
              "    </script>\n",
              "  </div>\n",
              "\n",
              "\n",
              "<div id=\"df-46dab51f-cfef-4b96-98d6-4025b9b3dbbf\">\n",
              "  <button class=\"colab-df-quickchart\" onclick=\"quickchart('df-46dab51f-cfef-4b96-98d6-4025b9b3dbbf')\"\n",
              "            title=\"Suggest charts\"\n",
              "            style=\"display:none;\">\n",
              "\n",
              "<svg xmlns=\"http://www.w3.org/2000/svg\" height=\"24px\"viewBox=\"0 0 24 24\"\n",
              "     width=\"24px\">\n",
              "    <g>\n",
              "        <path d=\"M19 3H5c-1.1 0-2 .9-2 2v14c0 1.1.9 2 2 2h14c1.1 0 2-.9 2-2V5c0-1.1-.9-2-2-2zM9 17H7v-7h2v7zm4 0h-2V7h2v10zm4 0h-2v-4h2v4z\"/>\n",
              "    </g>\n",
              "</svg>\n",
              "  </button>\n",
              "\n",
              "<style>\n",
              "  .colab-df-quickchart {\n",
              "      --bg-color: #E8F0FE;\n",
              "      --fill-color: #1967D2;\n",
              "      --hover-bg-color: #E2EBFA;\n",
              "      --hover-fill-color: #174EA6;\n",
              "      --disabled-fill-color: #AAA;\n",
              "      --disabled-bg-color: #DDD;\n",
              "  }\n",
              "\n",
              "  [theme=dark] .colab-df-quickchart {\n",
              "      --bg-color: #3B4455;\n",
              "      --fill-color: #D2E3FC;\n",
              "      --hover-bg-color: #434B5C;\n",
              "      --hover-fill-color: #FFFFFF;\n",
              "      --disabled-bg-color: #3B4455;\n",
              "      --disabled-fill-color: #666;\n",
              "  }\n",
              "\n",
              "  .colab-df-quickchart {\n",
              "    background-color: var(--bg-color);\n",
              "    border: none;\n",
              "    border-radius: 50%;\n",
              "    cursor: pointer;\n",
              "    display: none;\n",
              "    fill: var(--fill-color);\n",
              "    height: 32px;\n",
              "    padding: 0;\n",
              "    width: 32px;\n",
              "  }\n",
              "\n",
              "  .colab-df-quickchart:hover {\n",
              "    background-color: var(--hover-bg-color);\n",
              "    box-shadow: 0 1px 2px rgba(60, 64, 67, 0.3), 0 1px 3px 1px rgba(60, 64, 67, 0.15);\n",
              "    fill: var(--button-hover-fill-color);\n",
              "  }\n",
              "\n",
              "  .colab-df-quickchart-complete:disabled,\n",
              "  .colab-df-quickchart-complete:disabled:hover {\n",
              "    background-color: var(--disabled-bg-color);\n",
              "    fill: var(--disabled-fill-color);\n",
              "    box-shadow: none;\n",
              "  }\n",
              "\n",
              "  .colab-df-spinner {\n",
              "    border: 2px solid var(--fill-color);\n",
              "    border-color: transparent;\n",
              "    border-bottom-color: var(--fill-color);\n",
              "    animation:\n",
              "      spin 1s steps(1) infinite;\n",
              "  }\n",
              "\n",
              "  @keyframes spin {\n",
              "    0% {\n",
              "      border-color: transparent;\n",
              "      border-bottom-color: var(--fill-color);\n",
              "      border-left-color: var(--fill-color);\n",
              "    }\n",
              "    20% {\n",
              "      border-color: transparent;\n",
              "      border-left-color: var(--fill-color);\n",
              "      border-top-color: var(--fill-color);\n",
              "    }\n",
              "    30% {\n",
              "      border-color: transparent;\n",
              "      border-left-color: var(--fill-color);\n",
              "      border-top-color: var(--fill-color);\n",
              "      border-right-color: var(--fill-color);\n",
              "    }\n",
              "    40% {\n",
              "      border-color: transparent;\n",
              "      border-right-color: var(--fill-color);\n",
              "      border-top-color: var(--fill-color);\n",
              "    }\n",
              "    60% {\n",
              "      border-color: transparent;\n",
              "      border-right-color: var(--fill-color);\n",
              "    }\n",
              "    80% {\n",
              "      border-color: transparent;\n",
              "      border-right-color: var(--fill-color);\n",
              "      border-bottom-color: var(--fill-color);\n",
              "    }\n",
              "    90% {\n",
              "      border-color: transparent;\n",
              "      border-bottom-color: var(--fill-color);\n",
              "    }\n",
              "  }\n",
              "</style>\n",
              "\n",
              "  <script>\n",
              "    async function quickchart(key) {\n",
              "      const quickchartButtonEl =\n",
              "        document.querySelector('#' + key + ' button');\n",
              "      quickchartButtonEl.disabled = true;  // To prevent multiple clicks.\n",
              "      quickchartButtonEl.classList.add('colab-df-spinner');\n",
              "      try {\n",
              "        const charts = await google.colab.kernel.invokeFunction(\n",
              "            'suggestCharts', [key], {});\n",
              "      } catch (error) {\n",
              "        console.error('Error during call to suggestCharts:', error);\n",
              "      }\n",
              "      quickchartButtonEl.classList.remove('colab-df-spinner');\n",
              "      quickchartButtonEl.classList.add('colab-df-quickchart-complete');\n",
              "    }\n",
              "    (() => {\n",
              "      let quickchartButtonEl =\n",
              "        document.querySelector('#df-46dab51f-cfef-4b96-98d6-4025b9b3dbbf button');\n",
              "      quickchartButtonEl.style.display =\n",
              "        google.colab.kernel.accessAllowed ? 'block' : 'none';\n",
              "    })();\n",
              "  </script>\n",
              "</div>\n",
              "    </div>\n",
              "  </div>\n"
            ],
            "application/vnd.google.colaboratory.intrinsic+json": {
              "type": "dataframe",
              "summary": "{\n  \"name\": \"df\",\n  \"rows\": 8,\n  \"fields\": [\n    {\n      \"column\": \"Harga Rata-Rata Makanan di Toko (Rp)\",\n      \"properties\": {\n        \"dtype\": \"number\",\n        \"std\": 108794.93467875244,\n        \"min\": 291.0,\n        \"max\": 330000.0,\n        \"num_unique_values\": 8,\n        \"samples\": [\n          38766.32302405498,\n          31000.0,\n          291.0\n        ],\n        \"semantic_type\": \"\",\n        \"description\": \"\"\n      }\n    },\n    {\n      \"column\": \"Rating Toko\",\n      \"properties\": {\n        \"dtype\": \"number\",\n        \"std\": 101.53639506782821,\n        \"min\": 0.2625180913983097,\n        \"max\": 291.0,\n        \"num_unique_values\": 8,\n        \"samples\": [\n          4.547422680412371,\n          4.6,\n          291.0\n        ],\n        \"semantic_type\": \"\",\n        \"description\": \"\"\n      }\n    },\n    {\n      \"column\": \"Entertainment\",\n      \"properties\": {\n        \"dtype\": \"number\",\n        \"std\": 102.02400398711242,\n        \"min\": 1.0,\n        \"max\": 291.0,\n        \"num_unique_values\": 8,\n        \"samples\": [\n          2.5189003436426116,\n          3.0,\n          291.0\n        ],\n        \"semantic_type\": \"\",\n        \"description\": \"\"\n      }\n    },\n    {\n      \"column\": \"Keramaian Restoran\",\n      \"properties\": {\n        \"dtype\": \"number\",\n        \"std\": 102.23816891509541,\n        \"min\": 0.7984610152600768,\n        \"max\": 291.0,\n        \"num_unique_values\": 6,\n        \"samples\": [\n          291.0,\n          2.0618556701030926,\n          3.0\n        ],\n        \"semantic_type\": \"\",\n        \"description\": \"\"\n      }\n    }\n  ]\n}"
            }
          },
          "metadata": {},
          "execution_count": 9
        }
      ]
    },
    {
      "cell_type": "markdown",
      "source": [
        "## **4. Data Cleaning**"
      ],
      "metadata": {
        "id": "aQjq1WlA2PI9"
      }
    },
    {
      "cell_type": "markdown",
      "source": [
        "# **4.1 Drp The Duplicte**"
      ],
      "metadata": {
        "id": "rYdD7Vn52WT5"
      }
    },
    {
      "cell_type": "code",
      "source": [
        "# check the shape before drop duplicate\n",
        "df.shape"
      ],
      "metadata": {
        "colab": {
          "base_uri": "https://localhost:8080/"
        },
        "id": "vK3U9jEb2ajT",
        "outputId": "f07ed195-a57f-42f7-84c2-51a688eb262a"
      },
      "execution_count": 10,
      "outputs": [
        {
          "output_type": "execute_result",
          "data": {
            "text/plain": [
              "(291, 13)"
            ]
          },
          "metadata": {},
          "execution_count": 10
        }
      ]
    },
    {
      "cell_type": "code",
      "source": [
        "df=df .drop_duplicates()"
      ],
      "metadata": {
        "id": "cR15p5O72f2k"
      },
      "execution_count": 11,
      "outputs": []
    },
    {
      "cell_type": "code",
      "source": [
        "# check the shape after drop duplicate\n",
        "df.shape"
      ],
      "metadata": {
        "colab": {
          "base_uri": "https://localhost:8080/"
        },
        "id": "m_VAvIuO2jHj",
        "outputId": "4824231e-4877-4569-df15-b083cc27e77f"
      },
      "execution_count": 12,
      "outputs": [
        {
          "output_type": "execute_result",
          "data": {
            "text/plain": [
              "(291, 13)"
            ]
          },
          "metadata": {},
          "execution_count": 12
        }
      ]
    },
    {
      "cell_type": "markdown",
      "source": [
        "# **4.2 Check The NULL Value**"
      ],
      "metadata": {
        "id": "-gOWtQWg2mV2"
      }
    },
    {
      "cell_type": "code",
      "source": [
        "# check of null value,\n",
        "# check the missing value in any column,\n",
        "# display number of null value in every column in dataset.\n",
        "df .isnull().sum()"
      ],
      "metadata": {
        "colab": {
          "base_uri": "https://localhost:8080/"
        },
        "id": "yvLeezEy2nGj",
        "outputId": "4d8fdae8-2a26-4e5c-ebf3-a125b072f46a"
      },
      "execution_count": 13,
      "outputs": [
        {
          "output_type": "execute_result",
          "data": {
            "text/plain": [
              "Nama Restoran                           0\n",
              "Preferensi Makanan                      0\n",
              "Lokasi Restoran                         0\n",
              "Harga Rata-Rata Makanan di Toko (Rp)    0\n",
              "Rating Toko                             0\n",
              "Jenis Suasana                           0\n",
              "Toko Sering Diskon (Ya/Tidak)           0\n",
              "Variasi Makanan                         0\n",
              "Pelayanan Khusus Pasangan (Ya/Tidak)    0\n",
              "Entertainment                           0\n",
              "Keramaian Restoran                      0\n",
              "Disajikan atau Ambil Sendiri            0\n",
              "All You Can Eat atau Ala Carte          0\n",
              "dtype: int64"
            ]
          },
          "metadata": {},
          "execution_count": 13
        }
      ]
    },
    {
      "cell_type": "code",
      "source": [
        "df .columns"
      ],
      "metadata": {
        "colab": {
          "base_uri": "https://localhost:8080/"
        },
        "id": "UYMj0X6p2uxc",
        "outputId": "8125b394-ed80-457f-fc61-7e32f93a0332"
      },
      "execution_count": 14,
      "outputs": [
        {
          "output_type": "execute_result",
          "data": {
            "text/plain": [
              "Index(['Nama Restoran', 'Preferensi Makanan', 'Lokasi Restoran',\n",
              "       'Harga Rata-Rata Makanan di Toko (Rp)', 'Rating Toko', 'Jenis Suasana',\n",
              "       'Toko Sering Diskon (Ya/Tidak)', 'Variasi Makanan',\n",
              "       'Pelayanan Khusus Pasangan (Ya/Tidak)', 'Entertainment',\n",
              "       'Keramaian Restoran', 'Disajikan atau Ambil Sendiri',\n",
              "       'All You Can Eat atau Ala Carte'],\n",
              "      dtype='object')"
            ]
          },
          "metadata": {},
          "execution_count": 14
        }
      ]
    },
    {
      "cell_type": "markdown",
      "source": [
        "# **check the not .of Zero value in dataset**"
      ],
      "metadata": {
        "id": "ws-8D4Kt2ybb"
      }
    },
    {
      "cell_type": "code",
      "source": [
        "print ('No of zero value in Nama Restoran', df[df['Nama Restoran']==0].shape[0])"
      ],
      "metadata": {
        "colab": {
          "base_uri": "https://localhost:8080/"
        },
        "id": "WvxSx4D12zFS",
        "outputId": "33283153-0d61-4eac-9b24-7320343f1f90"
      },
      "execution_count": 15,
      "outputs": [
        {
          "output_type": "stream",
          "name": "stdout",
          "text": [
            "No of zero value in Nama Restoran 0\n"
          ]
        }
      ]
    },
    {
      "cell_type": "code",
      "source": [
        "print ('No of zero value in Preferensi Makanan', df[df['Preferensi Makanan']==0].shape[0])"
      ],
      "metadata": {
        "colab": {
          "base_uri": "https://localhost:8080/"
        },
        "id": "7fOG3NW93usm",
        "outputId": "9dd13f30-604d-47f3-b203-937a80c3f46d"
      },
      "execution_count": 16,
      "outputs": [
        {
          "output_type": "stream",
          "name": "stdout",
          "text": [
            "No of zero value in Preferensi Makanan 0\n"
          ]
        }
      ]
    },
    {
      "cell_type": "code",
      "source": [
        "print ('No of zero value in Lokasi Restoran', df[df['Lokasi Restoran']==0].shape[0])"
      ],
      "metadata": {
        "colab": {
          "base_uri": "https://localhost:8080/"
        },
        "id": "7Wt3AODs38HY",
        "outputId": "338e9964-bada-41c3-98cf-20693e4dfa71"
      },
      "execution_count": 17,
      "outputs": [
        {
          "output_type": "stream",
          "name": "stdout",
          "text": [
            "No of zero value in Lokasi Restoran 0\n"
          ]
        }
      ]
    },
    {
      "cell_type": "code",
      "source": [
        "print ('No of zero value in Harga Rata-Rata Makanan di Toko (Rp)', df[df['Harga Rata-Rata Makanan di Toko (Rp)']==0].shape[0])"
      ],
      "metadata": {
        "colab": {
          "base_uri": "https://localhost:8080/"
        },
        "id": "Fd5DL9rw4B42",
        "outputId": "d10f8be8-b056-4f56-fac5-61bf189d1304"
      },
      "execution_count": 18,
      "outputs": [
        {
          "output_type": "stream",
          "name": "stdout",
          "text": [
            "No of zero value in Harga Rata-Rata Makanan di Toko (Rp) 0\n"
          ]
        }
      ]
    },
    {
      "cell_type": "code",
      "source": [
        "print ('No of zero value in Rating Toko', df[df['Rating Toko']==0].shape[0])"
      ],
      "metadata": {
        "colab": {
          "base_uri": "https://localhost:8080/"
        },
        "id": "vJX9qZ3H5Mfg",
        "outputId": "780c08fb-46f1-4b62-e1ba-1969a8a67c20"
      },
      "execution_count": 19,
      "outputs": [
        {
          "output_type": "stream",
          "name": "stdout",
          "text": [
            "No of zero value in Rating Toko 0\n"
          ]
        }
      ]
    },
    {
      "cell_type": "markdown",
      "source": [
        "# **Replace the not .of Zero value with mean of columns**"
      ],
      "metadata": {
        "id": "zAkyS5iZ5-hp"
      }
    },
    {
      "cell_type": "code",
      "source": [
        "df['Harga Rata-Rata Makanan di Toko (Rp)']=df['Harga Rata-Rata Makanan di Toko (Rp)'].replace(0,df['Harga Rata-Rata Makanan di Toko (Rp)'].mean())\n",
        "print ('No of zero value in Harga Rata-Rata Makanan di Toko (Rp)', df[df['Harga Rata-Rata Makanan di Toko (Rp)']==0].shape[0])"
      ],
      "metadata": {
        "colab": {
          "base_uri": "https://localhost:8080/"
        },
        "id": "SRlpn0VP6AEg",
        "outputId": "cd78c608-6a19-4671-a255-d1d06d372718"
      },
      "execution_count": 20,
      "outputs": [
        {
          "output_type": "stream",
          "name": "stdout",
          "text": [
            "No of zero value in Harga Rata-Rata Makanan di Toko (Rp) 0\n"
          ]
        }
      ]
    },
    {
      "cell_type": "code",
      "source": [
        "df['Entertainment']=df['Entertainment'].replace(0,df['Entertainment'].mean())\n",
        "df['Keramaian Restoran']=df['Keramaian Restoran'].replace(0,df['Keramaian Restoran'].mean())\n",
        "df['Rating Toko']=df['Rating Toko'].replace(0,df['Rating Toko'].mean())"
      ],
      "metadata": {
        "id": "UgsK0Gdh779Q"
      },
      "execution_count": 23,
      "outputs": []
    },
    {
      "cell_type": "code",
      "source": [
        "df.describe()"
      ],
      "metadata": {
        "colab": {
          "base_uri": "https://localhost:8080/",
          "height": 300
        },
        "id": "N-9GdKaD-FC3",
        "outputId": "f50ab2ce-565c-44b0-8fee-a7dacd1238cc"
      },
      "execution_count": 24,
      "outputs": [
        {
          "output_type": "execute_result",
          "data": {
            "text/plain": [
              "       Harga Rata-Rata Makanan di Toko (Rp)  Rating Toko  Entertainment  \\\n",
              "count                            291.000000   291.000000     291.000000   \n",
              "mean                           38766.323024     4.547423       2.518900   \n",
              "std                            28509.896041     0.262518       1.118259   \n",
              "min                            10000.000000     3.400000       1.000000   \n",
              "25%                            22000.000000     4.500000       2.000000   \n",
              "50%                            31000.000000     4.600000       3.000000   \n",
              "75%                            44500.000000     4.700000       3.500000   \n",
              "max                           330000.000000     4.900000       4.000000   \n",
              "\n",
              "       Keramaian Restoran  \n",
              "count          291.000000  \n",
              "mean             2.061856  \n",
              "std              0.798461  \n",
              "min              1.000000  \n",
              "25%              1.000000  \n",
              "50%              2.000000  \n",
              "75%              3.000000  \n",
              "max              3.000000  "
            ],
            "text/html": [
              "\n",
              "  <div id=\"df-0ba37ba7-dc5e-4522-a144-4fe7e5a528c3\" class=\"colab-df-container\">\n",
              "    <div>\n",
              "<style scoped>\n",
              "    .dataframe tbody tr th:only-of-type {\n",
              "        vertical-align: middle;\n",
              "    }\n",
              "\n",
              "    .dataframe tbody tr th {\n",
              "        vertical-align: top;\n",
              "    }\n",
              "\n",
              "    .dataframe thead th {\n",
              "        text-align: right;\n",
              "    }\n",
              "</style>\n",
              "<table border=\"1\" class=\"dataframe\">\n",
              "  <thead>\n",
              "    <tr style=\"text-align: right;\">\n",
              "      <th></th>\n",
              "      <th>Harga Rata-Rata Makanan di Toko (Rp)</th>\n",
              "      <th>Rating Toko</th>\n",
              "      <th>Entertainment</th>\n",
              "      <th>Keramaian Restoran</th>\n",
              "    </tr>\n",
              "  </thead>\n",
              "  <tbody>\n",
              "    <tr>\n",
              "      <th>count</th>\n",
              "      <td>291.000000</td>\n",
              "      <td>291.000000</td>\n",
              "      <td>291.000000</td>\n",
              "      <td>291.000000</td>\n",
              "    </tr>\n",
              "    <tr>\n",
              "      <th>mean</th>\n",
              "      <td>38766.323024</td>\n",
              "      <td>4.547423</td>\n",
              "      <td>2.518900</td>\n",
              "      <td>2.061856</td>\n",
              "    </tr>\n",
              "    <tr>\n",
              "      <th>std</th>\n",
              "      <td>28509.896041</td>\n",
              "      <td>0.262518</td>\n",
              "      <td>1.118259</td>\n",
              "      <td>0.798461</td>\n",
              "    </tr>\n",
              "    <tr>\n",
              "      <th>min</th>\n",
              "      <td>10000.000000</td>\n",
              "      <td>3.400000</td>\n",
              "      <td>1.000000</td>\n",
              "      <td>1.000000</td>\n",
              "    </tr>\n",
              "    <tr>\n",
              "      <th>25%</th>\n",
              "      <td>22000.000000</td>\n",
              "      <td>4.500000</td>\n",
              "      <td>2.000000</td>\n",
              "      <td>1.000000</td>\n",
              "    </tr>\n",
              "    <tr>\n",
              "      <th>50%</th>\n",
              "      <td>31000.000000</td>\n",
              "      <td>4.600000</td>\n",
              "      <td>3.000000</td>\n",
              "      <td>2.000000</td>\n",
              "    </tr>\n",
              "    <tr>\n",
              "      <th>75%</th>\n",
              "      <td>44500.000000</td>\n",
              "      <td>4.700000</td>\n",
              "      <td>3.500000</td>\n",
              "      <td>3.000000</td>\n",
              "    </tr>\n",
              "    <tr>\n",
              "      <th>max</th>\n",
              "      <td>330000.000000</td>\n",
              "      <td>4.900000</td>\n",
              "      <td>4.000000</td>\n",
              "      <td>3.000000</td>\n",
              "    </tr>\n",
              "  </tbody>\n",
              "</table>\n",
              "</div>\n",
              "    <div class=\"colab-df-buttons\">\n",
              "\n",
              "  <div class=\"colab-df-container\">\n",
              "    <button class=\"colab-df-convert\" onclick=\"convertToInteractive('df-0ba37ba7-dc5e-4522-a144-4fe7e5a528c3')\"\n",
              "            title=\"Convert this dataframe to an interactive table.\"\n",
              "            style=\"display:none;\">\n",
              "\n",
              "  <svg xmlns=\"http://www.w3.org/2000/svg\" height=\"24px\" viewBox=\"0 -960 960 960\">\n",
              "    <path d=\"M120-120v-720h720v720H120Zm60-500h600v-160H180v160Zm220 220h160v-160H400v160Zm0 220h160v-160H400v160ZM180-400h160v-160H180v160Zm440 0h160v-160H620v160ZM180-180h160v-160H180v160Zm440 0h160v-160H620v160Z\"/>\n",
              "  </svg>\n",
              "    </button>\n",
              "\n",
              "  <style>\n",
              "    .colab-df-container {\n",
              "      display:flex;\n",
              "      gap: 12px;\n",
              "    }\n",
              "\n",
              "    .colab-df-convert {\n",
              "      background-color: #E8F0FE;\n",
              "      border: none;\n",
              "      border-radius: 50%;\n",
              "      cursor: pointer;\n",
              "      display: none;\n",
              "      fill: #1967D2;\n",
              "      height: 32px;\n",
              "      padding: 0 0 0 0;\n",
              "      width: 32px;\n",
              "    }\n",
              "\n",
              "    .colab-df-convert:hover {\n",
              "      background-color: #E2EBFA;\n",
              "      box-shadow: 0px 1px 2px rgba(60, 64, 67, 0.3), 0px 1px 3px 1px rgba(60, 64, 67, 0.15);\n",
              "      fill: #174EA6;\n",
              "    }\n",
              "\n",
              "    .colab-df-buttons div {\n",
              "      margin-bottom: 4px;\n",
              "    }\n",
              "\n",
              "    [theme=dark] .colab-df-convert {\n",
              "      background-color: #3B4455;\n",
              "      fill: #D2E3FC;\n",
              "    }\n",
              "\n",
              "    [theme=dark] .colab-df-convert:hover {\n",
              "      background-color: #434B5C;\n",
              "      box-shadow: 0px 1px 3px 1px rgba(0, 0, 0, 0.15);\n",
              "      filter: drop-shadow(0px 1px 2px rgba(0, 0, 0, 0.3));\n",
              "      fill: #FFFFFF;\n",
              "    }\n",
              "  </style>\n",
              "\n",
              "    <script>\n",
              "      const buttonEl =\n",
              "        document.querySelector('#df-0ba37ba7-dc5e-4522-a144-4fe7e5a528c3 button.colab-df-convert');\n",
              "      buttonEl.style.display =\n",
              "        google.colab.kernel.accessAllowed ? 'block' : 'none';\n",
              "\n",
              "      async function convertToInteractive(key) {\n",
              "        const element = document.querySelector('#df-0ba37ba7-dc5e-4522-a144-4fe7e5a528c3');\n",
              "        const dataTable =\n",
              "          await google.colab.kernel.invokeFunction('convertToInteractive',\n",
              "                                                    [key], {});\n",
              "        if (!dataTable) return;\n",
              "\n",
              "        const docLinkHtml = 'Like what you see? Visit the ' +\n",
              "          '<a target=\"_blank\" href=https://colab.research.google.com/notebooks/data_table.ipynb>data table notebook</a>'\n",
              "          + ' to learn more about interactive tables.';\n",
              "        element.innerHTML = '';\n",
              "        dataTable['output_type'] = 'display_data';\n",
              "        await google.colab.output.renderOutput(dataTable, element);\n",
              "        const docLink = document.createElement('div');\n",
              "        docLink.innerHTML = docLinkHtml;\n",
              "        element.appendChild(docLink);\n",
              "      }\n",
              "    </script>\n",
              "  </div>\n",
              "\n",
              "\n",
              "<div id=\"df-2765cf88-df63-40d7-9dec-d295cf164973\">\n",
              "  <button class=\"colab-df-quickchart\" onclick=\"quickchart('df-2765cf88-df63-40d7-9dec-d295cf164973')\"\n",
              "            title=\"Suggest charts\"\n",
              "            style=\"display:none;\">\n",
              "\n",
              "<svg xmlns=\"http://www.w3.org/2000/svg\" height=\"24px\"viewBox=\"0 0 24 24\"\n",
              "     width=\"24px\">\n",
              "    <g>\n",
              "        <path d=\"M19 3H5c-1.1 0-2 .9-2 2v14c0 1.1.9 2 2 2h14c1.1 0 2-.9 2-2V5c0-1.1-.9-2-2-2zM9 17H7v-7h2v7zm4 0h-2V7h2v10zm4 0h-2v-4h2v4z\"/>\n",
              "    </g>\n",
              "</svg>\n",
              "  </button>\n",
              "\n",
              "<style>\n",
              "  .colab-df-quickchart {\n",
              "      --bg-color: #E8F0FE;\n",
              "      --fill-color: #1967D2;\n",
              "      --hover-bg-color: #E2EBFA;\n",
              "      --hover-fill-color: #174EA6;\n",
              "      --disabled-fill-color: #AAA;\n",
              "      --disabled-bg-color: #DDD;\n",
              "  }\n",
              "\n",
              "  [theme=dark] .colab-df-quickchart {\n",
              "      --bg-color: #3B4455;\n",
              "      --fill-color: #D2E3FC;\n",
              "      --hover-bg-color: #434B5C;\n",
              "      --hover-fill-color: #FFFFFF;\n",
              "      --disabled-bg-color: #3B4455;\n",
              "      --disabled-fill-color: #666;\n",
              "  }\n",
              "\n",
              "  .colab-df-quickchart {\n",
              "    background-color: var(--bg-color);\n",
              "    border: none;\n",
              "    border-radius: 50%;\n",
              "    cursor: pointer;\n",
              "    display: none;\n",
              "    fill: var(--fill-color);\n",
              "    height: 32px;\n",
              "    padding: 0;\n",
              "    width: 32px;\n",
              "  }\n",
              "\n",
              "  .colab-df-quickchart:hover {\n",
              "    background-color: var(--hover-bg-color);\n",
              "    box-shadow: 0 1px 2px rgba(60, 64, 67, 0.3), 0 1px 3px 1px rgba(60, 64, 67, 0.15);\n",
              "    fill: var(--button-hover-fill-color);\n",
              "  }\n",
              "\n",
              "  .colab-df-quickchart-complete:disabled,\n",
              "  .colab-df-quickchart-complete:disabled:hover {\n",
              "    background-color: var(--disabled-bg-color);\n",
              "    fill: var(--disabled-fill-color);\n",
              "    box-shadow: none;\n",
              "  }\n",
              "\n",
              "  .colab-df-spinner {\n",
              "    border: 2px solid var(--fill-color);\n",
              "    border-color: transparent;\n",
              "    border-bottom-color: var(--fill-color);\n",
              "    animation:\n",
              "      spin 1s steps(1) infinite;\n",
              "  }\n",
              "\n",
              "  @keyframes spin {\n",
              "    0% {\n",
              "      border-color: transparent;\n",
              "      border-bottom-color: var(--fill-color);\n",
              "      border-left-color: var(--fill-color);\n",
              "    }\n",
              "    20% {\n",
              "      border-color: transparent;\n",
              "      border-left-color: var(--fill-color);\n",
              "      border-top-color: var(--fill-color);\n",
              "    }\n",
              "    30% {\n",
              "      border-color: transparent;\n",
              "      border-left-color: var(--fill-color);\n",
              "      border-top-color: var(--fill-color);\n",
              "      border-right-color: var(--fill-color);\n",
              "    }\n",
              "    40% {\n",
              "      border-color: transparent;\n",
              "      border-right-color: var(--fill-color);\n",
              "      border-top-color: var(--fill-color);\n",
              "    }\n",
              "    60% {\n",
              "      border-color: transparent;\n",
              "      border-right-color: var(--fill-color);\n",
              "    }\n",
              "    80% {\n",
              "      border-color: transparent;\n",
              "      border-right-color: var(--fill-color);\n",
              "      border-bottom-color: var(--fill-color);\n",
              "    }\n",
              "    90% {\n",
              "      border-color: transparent;\n",
              "      border-bottom-color: var(--fill-color);\n",
              "    }\n",
              "  }\n",
              "</style>\n",
              "\n",
              "  <script>\n",
              "    async function quickchart(key) {\n",
              "      const quickchartButtonEl =\n",
              "        document.querySelector('#' + key + ' button');\n",
              "      quickchartButtonEl.disabled = true;  // To prevent multiple clicks.\n",
              "      quickchartButtonEl.classList.add('colab-df-spinner');\n",
              "      try {\n",
              "        const charts = await google.colab.kernel.invokeFunction(\n",
              "            'suggestCharts', [key], {});\n",
              "      } catch (error) {\n",
              "        console.error('Error during call to suggestCharts:', error);\n",
              "      }\n",
              "      quickchartButtonEl.classList.remove('colab-df-spinner');\n",
              "      quickchartButtonEl.classList.add('colab-df-quickchart-complete');\n",
              "    }\n",
              "    (() => {\n",
              "      let quickchartButtonEl =\n",
              "        document.querySelector('#df-2765cf88-df63-40d7-9dec-d295cf164973 button');\n",
              "      quickchartButtonEl.style.display =\n",
              "        google.colab.kernel.accessAllowed ? 'block' : 'none';\n",
              "    })();\n",
              "  </script>\n",
              "</div>\n",
              "    </div>\n",
              "  </div>\n"
            ],
            "application/vnd.google.colaboratory.intrinsic+json": {
              "type": "dataframe",
              "summary": "{\n  \"name\": \"df\",\n  \"rows\": 8,\n  \"fields\": [\n    {\n      \"column\": \"Harga Rata-Rata Makanan di Toko (Rp)\",\n      \"properties\": {\n        \"dtype\": \"number\",\n        \"std\": 108794.93467875244,\n        \"min\": 291.0,\n        \"max\": 330000.0,\n        \"num_unique_values\": 8,\n        \"samples\": [\n          38766.32302405498,\n          31000.0,\n          291.0\n        ],\n        \"semantic_type\": \"\",\n        \"description\": \"\"\n      }\n    },\n    {\n      \"column\": \"Rating Toko\",\n      \"properties\": {\n        \"dtype\": \"number\",\n        \"std\": 101.53639506782821,\n        \"min\": 0.2625180913983097,\n        \"max\": 291.0,\n        \"num_unique_values\": 8,\n        \"samples\": [\n          4.547422680412371,\n          4.6,\n          291.0\n        ],\n        \"semantic_type\": \"\",\n        \"description\": \"\"\n      }\n    },\n    {\n      \"column\": \"Entertainment\",\n      \"properties\": {\n        \"dtype\": \"number\",\n        \"std\": 102.02400398711242,\n        \"min\": 1.0,\n        \"max\": 291.0,\n        \"num_unique_values\": 8,\n        \"samples\": [\n          2.5189003436426116,\n          3.0,\n          291.0\n        ],\n        \"semantic_type\": \"\",\n        \"description\": \"\"\n      }\n    },\n    {\n      \"column\": \"Keramaian Restoran\",\n      \"properties\": {\n        \"dtype\": \"number\",\n        \"std\": 102.23816891509541,\n        \"min\": 0.7984610152600768,\n        \"max\": 291.0,\n        \"num_unique_values\": 6,\n        \"samples\": [\n          291.0,\n          2.0618556701030926,\n          3.0\n        ],\n        \"semantic_type\": \"\",\n        \"description\": \"\"\n      }\n    }\n  ]\n}"
            }
          },
          "metadata": {},
          "execution_count": 24
        }
      ]
    },
    {
      "cell_type": "code",
      "source": [
        "# utcome count plot\n",
        "f,ax=plt.subplots(1,2,figsize=(10,5))\n",
        "df['Toko Sering Diskon (Ya/Tidak)'].value_counts().plot.pie(explode=[0,0.1],autopct='%1.1f%%',ax=ax[0],shadow=True)\n",
        "ax[0].set_title('Toko Sering Diskon (Ya/Tidak)')\n",
        "ax[0].set_ylabel('')\n",
        "sns.countplot(x='Toko Sering Diskon (Ya/Tidak)',data=df,ax=ax[1])\n",
        "ax[1].set_title('Toko Sering Diskon (Ya/Tidak)')\n",
        "N,P = df['Toko Sering Diskon (Ya/Tidak)'].value_counts()\n",
        "print('Negative (0):',N)\n",
        "print('Positive (1):',P)\n",
        "plt.grid()\n",
        "plt.show()"
      ],
      "metadata": {
        "colab": {
          "base_uri": "https://localhost:8080/",
          "height": 522
        },
        "id": "5ghKOms1-T8E",
        "outputId": "a399907d-878b-4e66-de65-171fcfd7cde9"
      },
      "execution_count": 38,
      "outputs": [
        {
          "output_type": "stream",
          "name": "stdout",
          "text": [
            "Negative (0): 230\n",
            "Positive (1): 61\n"
          ]
        },
        {
          "output_type": "display_data",
          "data": {
            "text/plain": [
              "<Figure size 1000x500 with 2 Axes>"
            ],
            "image/png": "[encoded data removed]"
          },
          "metadata": {}
        }
      ]
    },
    {
      "cell_type": "markdown",
      "source": [
        "# **Histogram of each feature**"
      ],
      "metadata": {
        "id": "71ex5vzoI9dF"
      }
    },
    {
      "cell_type": "code",
      "source": [
        "df.hist(bins=10,figsize=(10,10))\n",
        "plt.show()"
      ],
      "metadata": {
        "colab": {
          "base_uri": "https://localhost:8080/",
          "height": 853
        },
        "id": "AObBC82UI-B5",
        "outputId": "bf563369-db9e-4990-9b88-b18a7a4b013f"
      },
      "execution_count": 39,
      "outputs": [
        {
          "output_type": "display_data",
          "data": {
            "text/plain": [
              "<Figure size 1000x1000 with 4 Axes>"
            ],
            "image/png": "[encoded data removed]"
          },
          "metadata": {}
        }
      ]
    },
    {
      "cell_type": "markdown",
      "source": [
        "# **Scatter Plaot**"
      ],
      "metadata": {
        "id": "xSOuVKQEJEyU"
      }
    },
    {
      "cell_type": "code",
      "source": [
        "from pandas.plotting import scatter_matrix\n",
        "scatter_matrix(df, figsize = (20,20));"
      ],
      "metadata": {
        "colab": {
          "base_uri": "https://localhost:8080/",
          "height": 1000
        },
        "id": "UxqoZFXDJF-3",
        "outputId": "5417818a-3ece-43bc-e5a1-f821e7e6d003"
      },
      "execution_count": 40,
      "outputs": [
        {
          "output_type": "display_data",
          "data": {
            "text/plain": [
              "<Figure size 2000x2000 with 16 Axes>"
            ],
            "image/png": "[encoded data removed]"
          },
          "metadata": {}
        }
      ]
    },
    {
      "cell_type": "markdown",
      "source": [
        "# **Analyzing relationships between variable**"
      ],
      "metadata": {
        "id": "sVCvU5riJSwc"
      }
    },
    {
      "cell_type": "code",
      "source": [
        "import seaborn as sns\n",
        "numerical_features = ['Harga Rata-Rata Makanan di Toko (Rp)', 'Rating Toko', 'Entertainment','Keramaian Restoran']\n",
        "df_numerical = df[numerical_features]\n",
        "corrmat = df_numerical.corr()\n",
        "top_corr_features = corrmat.index\n",
        "plt.figure(figsize=(10,5))\n",
        "g=sns.heatmap(df_numerical[top_corr_features].corr(), annot=True, cmap=\"viridis\")"
      ],
      "metadata": {
        "colab": {
          "base_uri": "https://localhost:8080/",
          "height": 706
        },
        "id": "iEwpGagsJTb3",
        "outputId": "5afb7937-277a-4c95-8d53-7eb905601e0e"
      },
      "execution_count": 48,
      "outputs": [
        {
          "output_type": "display_data",
          "data": {
            "text/plain": [
              "<Figure size 1000x500 with 2 Axes>"
            ],
            "image/png": "[encoded data removed]"
          },
          "metadata": {}
        }
      ]
    },
    {
      "cell_type": "markdown",
      "source": [
        "# **5. Split the data frame into X & Y**"
      ],
      "metadata": {
        "id": "hZPX7lAHOGbK"
      }
    },
    {
      "cell_type": "code",
      "source": [
        "target_name = 'Toko Sering Diskon (Ya/Tidak)'\n",
        "y = df[target_name]\n",
        "x = df.drop(target_name, axis=1)"
      ],
      "metadata": {
        "id": "cm62ummdOHFL"
      },
      "execution_count": 49,
      "outputs": []
    },
    {
      "cell_type": "code",
      "source": [
        "x.head()"
      ],
      "metadata": {
        "colab": {
          "base_uri": "https://localhost:8080/",
          "height": 553
        },
        "id": "HLyFA-3sORZv",
        "outputId": "887feadb-f655-49d9-9d2a-2f428b34226e"
      },
      "execution_count": 50,
      "outputs": [
        {
          "output_type": "execute_result",
          "data": {
            "text/plain": [
              "                                       Nama Restoran Preferensi Makanan  \\\n",
              "0                Mie Bandung Chinese Food, Ngampilan            Chinese   \n",
              "1  Soto Tauco Pekalongan Bu Iswi, Jalan Bimokurdo...          Indonesia   \n",
              "2       Spesial Bakso Pak Jum Balai Kota, Umbulharjo          Indonesia   \n",
              "3     Soto Ayam Kampung Dan Soto Daging Sapi Pak Ben          Indonesia   \n",
              "4                                          Toba Tabo            Chinese   \n",
              "\n",
              "  Lokasi Restoran  Harga Rata-Rata Makanan di Toko (Rp)  Rating Toko  \\\n",
              "0         3.23 km                                 39000          4.7   \n",
              "1         3.01 km                                 19000          3.7   \n",
              "2         1.44 km                                 18000          3.6   \n",
              "3         0.83 km                                 22000          3.8   \n",
              "4         2.13 km                                 40000          4.7   \n",
              "\n",
              "  Jenis Suasana                    Variasi Makanan  \\\n",
              "0        Santai        Bakmie, Aneka nasi, Chinese   \n",
              "1        Santai  Bakso & soto, Cepat saji, Minuman   \n",
              "2        Santai     Bakso & soto, Jajanan, Minuman   \n",
              "3        Santai              Bakso & soto, Minuman   \n",
              "4        Santai        Cepat saji, Bakmie, Chinese   \n",
              "\n",
              "  Pelayanan Khusus Pasangan (Ya/Tidak)  Entertainment  Keramaian Restoran  \\\n",
              "0                                Tidak              3                   3   \n",
              "1                                Tidak              2                   2   \n",
              "2                                Tidak              2                   2   \n",
              "3                                Tidak              1                   2   \n",
              "4                                Tidak              1                   3   \n",
              "\n",
              "  Disajikan atau Ambil Sendiri All You Can Eat atau Ala Carte  \n",
              "0                    Disajikan                      Ala Carte  \n",
              "1                    Disajikan                      Ala Carte  \n",
              "2                    Disajikan                      Ala Carte  \n",
              "3                    Disajikan                      Ala Carte  \n",
              "4                    Disajikan                      Ala Carte  "
            ],
            "text/html": [
              "\n",
              "  <div id=\"df-b0ed6a27-bcaf-4401-959c-1d98e811e1fd\" class=\"colab-df-container\">\n",
              "    <div>\n",
              "<style scoped>\n",
              "    .dataframe tbody tr th:only-of-type {\n",
              "        vertical-align: middle;\n",
              "    }\n",
              "\n",
              "    .dataframe tbody tr th {\n",
              "        vertical-align: top;\n",
              "    }\n",
              "\n",
              "    .dataframe thead th {\n",
              "        text-align: right;\n",
              "    }\n",
              "</style>\n",
              "<table border=\"1\" class=\"dataframe\">\n",
              "  <thead>\n",
              "    <tr style=\"text-align: right;\">\n",
              "      <th></th>\n",
              "      <th>Nama Restoran</th>\n",
              "      <th>Preferensi Makanan</th>\n",
              "      <th>Lokasi Restoran</th>\n",
              "      <th>Harga Rata-Rata Makanan di Toko (Rp)</th>\n",
              "      <th>Rating Toko</th>\n",
              "      <th>Jenis Suasana</th>\n",
              "      <th>Variasi Makanan</th>\n",
              "      <th>Pelayanan Khusus Pasangan (Ya/Tidak)</th>\n",
              "      <th>Entertainment</th>\n",
              "      <th>Keramaian Restoran</th>\n",
              "      <th>Disajikan atau Ambil Sendiri</th>\n",
              "      <th>All You Can Eat atau Ala Carte</th>\n",
              "    </tr>\n",
              "  </thead>\n",
              "  <tbody>\n",
              "    <tr>\n",
              "      <th>0</th>\n",
              "      <td>Mie Bandung Chinese Food, Ngampilan</td>\n",
              "      <td>Chinese</td>\n",
              "      <td>3.23 km</td>\n",
              "      <td>39000</td>\n",
              "      <td>4.7</td>\n",
              "      <td>Santai</td>\n",
              "      <td>Bakmie, Aneka nasi, Chinese</td>\n",
              "      <td>Tidak</td>\n",
              "      <td>3</td>\n",
              "      <td>3</td>\n",
              "      <td>Disajikan</td>\n",
              "      <td>Ala Carte</td>\n",
              "    </tr>\n",
              "    <tr>\n",
              "      <th>1</th>\n",
              "      <td>Soto Tauco Pekalongan Bu Iswi, Jalan Bimokurdo...</td>\n",
              "      <td>Indonesia</td>\n",
              "      <td>3.01 km</td>\n",
              "      <td>19000</td>\n",
              "      <td>3.7</td>\n",
              "      <td>Santai</td>\n",
              "      <td>Bakso &amp; soto, Cepat saji, Minuman</td>\n",
              "      <td>Tidak</td>\n",
              "      <td>2</td>\n",
              "      <td>2</td>\n",
              "      <td>Disajikan</td>\n",
              "      <td>Ala Carte</td>\n",
              "    </tr>\n",
              "    <tr>\n",
              "      <th>2</th>\n",
              "      <td>Spesial Bakso Pak Jum Balai Kota, Umbulharjo</td>\n",
              "      <td>Indonesia</td>\n",
              "      <td>1.44 km</td>\n",
              "      <td>18000</td>\n",
              "      <td>3.6</td>\n",
              "      <td>Santai</td>\n",
              "      <td>Bakso &amp; soto, Jajanan, Minuman</td>\n",
              "      <td>Tidak</td>\n",
              "      <td>2</td>\n",
              "      <td>2</td>\n",
              "      <td>Disajikan</td>\n",
              "      <td>Ala Carte</td>\n",
              "    </tr>\n",
              "    <tr>\n",
              "      <th>3</th>\n",
              "      <td>Soto Ayam Kampung Dan Soto Daging Sapi Pak Ben</td>\n",
              "      <td>Indonesia</td>\n",
              "      <td>0.83 km</td>\n",
              "      <td>22000</td>\n",
              "      <td>3.8</td>\n",
              "      <td>Santai</td>\n",
              "      <td>Bakso &amp; soto, Minuman</td>\n",
              "      <td>Tidak</td>\n",
              "      <td>1</td>\n",
              "      <td>2</td>\n",
              "      <td>Disajikan</td>\n",
              "      <td>Ala Carte</td>\n",
              "    </tr>\n",
              "    <tr>\n",
              "      <th>4</th>\n",
              "      <td>Toba Tabo</td>\n",
              "      <td>Chinese</td>\n",
              "      <td>2.13 km</td>\n",
              "      <td>40000</td>\n",
              "      <td>4.7</td>\n",
              "      <td>Santai</td>\n",
              "      <td>Cepat saji, Bakmie, Chinese</td>\n",
              "      <td>Tidak</td>\n",
              "      <td>1</td>\n",
              "      <td>3</td>\n",
              "      <td>Disajikan</td>\n",
              "      <td>Ala Carte</td>\n",
              "    </tr>\n",
              "  </tbody>\n",
              "</table>\n",
              "</div>\n",
              "    <div class=\"colab-df-buttons\">\n",
              "\n",
              "  <div class=\"colab-df-container\">\n",
              "    <button class=\"colab-df-convert\" onclick=\"convertToInteractive('df-b0ed6a27-bcaf-4401-959c-1d98e811e1fd')\"\n",
              "            title=\"Convert this dataframe to an interactive table.\"\n",
              "            style=\"display:none;\">\n",
              "\n",
              "  <svg xmlns=\"http://www.w3.org/2000/svg\" height=\"24px\" viewBox=\"0 -960 960 960\">\n",
              "    <path d=\"M120-120v-720h720v720H120Zm60-500h600v-160H180v160Zm220 220h160v-160H400v160Zm0 220h160v-160H400v160ZM180-400h160v-160H180v160Zm440 0h160v-160H620v160ZM180-180h160v-160H180v160Zm440 0h160v-160H620v160Z\"/>\n",
              "  </svg>\n",
              "    </button>\n",
              "\n",
              "  <style>\n",
              "    .colab-df-container {\n",
              "      display:flex;\n",
              "      gap: 12px;\n",
              "    }\n",
              "\n",
              "    .colab-df-convert {\n",
              "      background-color: #E8F0FE;\n",
              "      border: none;\n",
              "      border-radius: 50%;\n",
              "      cursor: pointer;\n",
              "      display: none;\n",
              "      fill: #1967D2;\n",
              "      height: 32px;\n",
              "      padding: 0 0 0 0;\n",
              "      width: 32px;\n",
              "    }\n",
              "\n",
              "    .colab-df-convert:hover {\n",
              "      background-color: #E2EBFA;\n",
              "      box-shadow: 0px 1px 2px rgba(60, 64, 67, 0.3), 0px 1px 3px 1px rgba(60, 64, 67, 0.15);\n",
              "      fill: #174EA6;\n",
              "    }\n",
              "\n",
              "    .colab-df-buttons div {\n",
              "      margin-bottom: 4px;\n",
              "    }\n",
              "\n",
              "    [theme=dark] .colab-df-convert {\n",
              "      background-color: #3B4455;\n",
              "      fill: #D2E3FC;\n",
              "    }\n",
              "\n",
              "    [theme=dark] .colab-df-convert:hover {\n",
              "      background-color: #434B5C;\n",
              "      box-shadow: 0px 1px 3px 1px rgba(0, 0, 0, 0.15);\n",
              "      filter: drop-shadow(0px 1px 2px rgba(0, 0, 0, 0.3));\n",
              "      fill: #FFFFFF;\n",
              "    }\n",
              "  </style>\n",
              "\n",
              "    <script>\n",
              "      const buttonEl =\n",
              "        document.querySelector('#df-b0ed6a27-bcaf-4401-959c-1d98e811e1fd button.colab-df-convert');\n",
              "      buttonEl.style.display =\n",
              "        google.colab.kernel.accessAllowed ? 'block' : 'none';\n",
              "\n",
              "      async function convertToInteractive(key) {\n",
              "        const element = document.querySelector('#df-b0ed6a27-bcaf-4401-959c-1d98e811e1fd');\n",
              "        const dataTable =\n",
              "          await google.colab.kernel.invokeFunction('convertToInteractive',\n",
              "                                                    [key], {});\n",
              "        if (!dataTable) return;\n",
              "\n",
              "        const docLinkHtml = 'Like what you see? Visit the ' +\n",
              "          '<a target=\"_blank\" href=https://colab.research.google.com/notebooks/data_table.ipynb>data table notebook</a>'\n",
              "          + ' to learn more about interactive tables.';\n",
              "        element.innerHTML = '';\n",
              "        dataTable['output_type'] = 'display_data';\n",
              "        await google.colab.output.renderOutput(dataTable, element);\n",
              "        const docLink = document.createElement('div');\n",
              "        docLink.innerHTML = docLinkHtml;\n",
              "        element.appendChild(docLink);\n",
              "      }\n",
              "    </script>\n",
              "  </div>\n",
              "\n",
              "\n",
              "<div id=\"df-f016a13c-33c5-4215-ac02-6ad0a4a6f6d9\">\n",
              "  <button class=\"colab-df-quickchart\" onclick=\"quickchart('df-f016a13c-33c5-4215-ac02-6ad0a4a6f6d9')\"\n",
              "            title=\"Suggest charts\"\n",
              "            style=\"display:none;\">\n",
              "\n",
              "<svg xmlns=\"http://www.w3.org/2000/svg\" height=\"24px\"viewBox=\"0 0 24 24\"\n",
              "     width=\"24px\">\n",
              "    <g>\n",
              "        <path d=\"M19 3H5c-1.1 0-2 .9-2 2v14c0 1.1.9 2 2 2h14c1.1 0 2-.9 2-2V5c0-1.1-.9-2-2-2zM9 17H7v-7h2v7zm4 0h-2V7h2v10zm4 0h-2v-4h2v4z\"/>\n",
              "    </g>\n",
              "</svg>\n",
              "  </button>\n",
              "\n",
              "<style>\n",
              "  .colab-df-quickchart {\n",
              "      --bg-color: #E8F0FE;\n",
              "      --fill-color: #1967D2;\n",
              "      --hover-bg-color: #E2EBFA;\n",
              "      --hover-fill-color: #174EA6;\n",
              "      --disabled-fill-color: #AAA;\n",
              "      --disabled-bg-color: #DDD;\n",
              "  }\n",
              "\n",
              "  [theme=dark] .colab-df-quickchart {\n",
              "      --bg-color: #3B4455;\n",
              "      --fill-color: #D2E3FC;\n",
              "      --hover-bg-color: #434B5C;\n",
              "      --hover-fill-color: #FFFFFF;\n",
              "      --disabled-bg-color: #3B4455;\n",
              "      --disabled-fill-color: #666;\n",
              "  }\n",
              "\n",
              "  .colab-df-quickchart {\n",
              "    background-color: var(--bg-color);\n",
              "    border: none;\n",
              "    border-radius: 50%;\n",
              "    cursor: pointer;\n",
              "    display: none;\n",
              "    fill: var(--fill-color);\n",
              "    height: 32px;\n",
              "    padding: 0;\n",
              "    width: 32px;\n",
              "  }\n",
              "\n",
              "  .colab-df-quickchart:hover {\n",
              "    background-color: var(--hover-bg-color);\n",
              "    box-shadow: 0 1px 2px rgba(60, 64, 67, 0.3), 0 1px 3px 1px rgba(60, 64, 67, 0.15);\n",
              "    fill: var(--button-hover-fill-color);\n",
              "  }\n",
              "\n",
              "  .colab-df-quickchart-complete:disabled,\n",
              "  .colab-df-quickchart-complete:disabled:hover {\n",
              "    background-color: var(--disabled-bg-color);\n",
              "    fill: var(--disabled-fill-color);\n",
              "    box-shadow: none;\n",
              "  }\n",
              "\n",
              "  .colab-df-spinner {\n",
              "    border: 2px solid var(--fill-color);\n",
              "    border-color: transparent;\n",
              "    border-bottom-color: var(--fill-color);\n",
              "    animation:\n",
              "      spin 1s steps(1) infinite;\n",
              "  }\n",
              "\n",
              "  @keyframes spin {\n",
              "    0% {\n",
              "      border-color: transparent;\n",
              "      border-bottom-color: var(--fill-color);\n",
              "      border-left-color: var(--fill-color);\n",
              "    }\n",
              "    20% {\n",
              "      border-color: transparent;\n",
              "      border-left-color: var(--fill-color);\n",
              "      border-top-color: var(--fill-color);\n",
              "    }\n",
              "    30% {\n",
              "      border-color: transparent;\n",
              "      border-left-color: var(--fill-color);\n",
              "      border-top-color: var(--fill-color);\n",
              "      border-right-color: var(--fill-color);\n",
              "    }\n",
              "    40% {\n",
              "      border-color: transparent;\n",
              "      border-right-color: var(--fill-color);\n",
              "      border-top-color: var(--fill-color);\n",
              "    }\n",
              "    60% {\n",
              "      border-color: transparent;\n",
              "      border-right-color: var(--fill-color);\n",
              "    }\n",
              "    80% {\n",
              "      border-color: transparent;\n",
              "      border-right-color: var(--fill-color);\n",
              "      border-bottom-color: var(--fill-color);\n",
              "    }\n",
              "    90% {\n",
              "      border-color: transparent;\n",
              "      border-bottom-color: var(--fill-color);\n",
              "    }\n",
              "  }\n",
              "</style>\n",
              "\n",
              "  <script>\n",
              "    async function quickchart(key) {\n",
              "      const quickchartButtonEl =\n",
              "        document.querySelector('#' + key + ' button');\n",
              "      quickchartButtonEl.disabled = true;  // To prevent multiple clicks.\n",
              "      quickchartButtonEl.classList.add('colab-df-spinner');\n",
              "      try {\n",
              "        const charts = await google.colab.kernel.invokeFunction(\n",
              "            'suggestCharts', [key], {});\n",
              "      } catch (error) {\n",
              "        console.error('Error during call to suggestCharts:', error);\n",
              "      }\n",
              "      quickchartButtonEl.classList.remove('colab-df-spinner');\n",
              "      quickchartButtonEl.classList.add('colab-df-quickchart-complete');\n",
              "    }\n",
              "    (() => {\n",
              "      let quickchartButtonEl =\n",
              "        document.querySelector('#df-f016a13c-33c5-4215-ac02-6ad0a4a6f6d9 button');\n",
              "      quickchartButtonEl.style.display =\n",
              "        google.colab.kernel.accessAllowed ? 'block' : 'none';\n",
              "    })();\n",
              "  </script>\n",
              "</div>\n",
              "    </div>\n",
              "  </div>\n"
            ],
            "application/vnd.google.colaboratory.intrinsic+json": {
              "type": "dataframe",
              "variable_name": "x",
              "summary": "{\n  \"name\": \"x\",\n  \"rows\": 291,\n  \"fields\": [\n    {\n      \"column\": \"Nama Restoran\",\n      \"properties\": {\n        \"dtype\": \"string\",\n        \"num_unique_values\": 291,\n        \"samples\": [\n          \"Soto Daging Lamongan Cak Ngun, Jl. Veteran No 212 Umbulharjo\",\n          \"AB Oriental Streetfood, Pedak\",\n          \"Pork King - Ricebox Babi, Gondokusuman\"\n        ],\n        \"semantic_type\": \"\",\n        \"description\": \"\"\n      }\n    },\n    {\n      \"column\": \"Preferensi Makanan\",\n      \"properties\": {\n        \"dtype\": \"category\",\n        \"num_unique_values\": 5,\n        \"samples\": [\n          \"Indonesia\",\n          \"Middle Eastern\",\n          \"Western\"\n        ],\n        \"semantic_type\": \"\",\n        \"description\": \"\"\n      }\n    },\n    {\n      \"column\": \"Lokasi Restoran\",\n      \"properties\": {\n        \"dtype\": \"string\",\n        \"num_unique_values\": 208,\n        \"samples\": [\n          \"3.28 km\",\n          \"0.65 km\",\n          \"3.06 km\"\n        ],\n        \"semantic_type\": \"\",\n        \"description\": \"\"\n      }\n    },\n    {\n      \"column\": \"Harga Rata-Rata Makanan di Toko (Rp)\",\n      \"properties\": {\n        \"dtype\": \"number\",\n        \"std\": 28509,\n        \"min\": 10000,\n        \"max\": 330000,\n        \"num_unique_values\": 73,\n        \"samples\": [\n          40000,\n          51000,\n          38000\n        ],\n        \"semantic_type\": \"\",\n        \"description\": \"\"\n      }\n    },\n    {\n      \"column\": \"Rating Toko\",\n      \"properties\": {\n        \"dtype\": \"number\",\n        \"std\": 0.2625180913983097,\n        \"min\": 3.4,\n        \"max\": 4.9,\n        \"num_unique_values\": 16,\n        \"samples\": [\n          4.7,\n          3.7,\n          4.3\n        ],\n        \"semantic_type\": \"\",\n        \"description\": \"\"\n      }\n    },\n    {\n      \"column\": \"Jenis Suasana\",\n      \"properties\": {\n        \"dtype\": \"category\",\n        \"num_unique_values\": 2,\n        \"samples\": [\n          \"Formal\",\n          \"Santai\"\n        ],\n        \"semantic_type\": \"\",\n        \"description\": \"\"\n      }\n    },\n    {\n      \"column\": \"Variasi Makanan\",\n      \"properties\": {\n        \"dtype\": \"string\",\n        \"num_unique_values\": 167,\n        \"samples\": [\n          \"Beverages, Rice, Western\",\n          \"Western, Middle Eastern, Snacks\"\n        ],\n        \"semantic_type\": \"\",\n        \"description\": \"\"\n      }\n    },\n    {\n      \"column\": \"Pelayanan Khusus Pasangan (Ya/Tidak)\",\n      \"properties\": {\n        \"dtype\": \"category\",\n        \"num_unique_values\": 2,\n        \"samples\": [\n          \"Ya\",\n          \"Tidak\"\n        ],\n        \"semantic_type\": \"\",\n        \"description\": \"\"\n      }\n    },\n    {\n      \"column\": \"Entertainment\",\n      \"properties\": {\n        \"dtype\": \"number\",\n        \"std\": 1,\n        \"min\": 1,\n        \"max\": 4,\n        \"num_unique_values\": 4,\n        \"samples\": [\n          2,\n          4\n        ],\n        \"semantic_type\": \"\",\n        \"description\": \"\"\n      }\n    },\n    {\n      \"column\": \"Keramaian Restoran\",\n      \"properties\": {\n        \"dtype\": \"number\",\n        \"std\": 0,\n        \"min\": 1,\n        \"max\": 3,\n        \"num_unique_values\": 3,\n        \"samples\": [\n          3,\n          2\n        ],\n        \"semantic_type\": \"\",\n        \"description\": \"\"\n      }\n    },\n    {\n      \"column\": \"Disajikan atau Ambil Sendiri\",\n      \"properties\": {\n        \"dtype\": \"category\",\n        \"num_unique_values\": 2,\n        \"samples\": [\n          \"Ambil Sendiri\",\n          \"Disajikan\"\n        ],\n        \"semantic_type\": \"\",\n        \"description\": \"\"\n      }\n    },\n    {\n      \"column\": \"All You Can Eat atau Ala Carte\",\n      \"properties\": {\n        \"dtype\": \"category\",\n        \"num_unique_values\": 2,\n        \"samples\": [\n          \"All You Can Eat\",\n          \"Ala Carte\"\n        ],\n        \"semantic_type\": \"\",\n        \"description\": \"\"\n      }\n    }\n  ]\n}"
            }
          },
          "metadata": {},
          "execution_count": 50
        }
      ]
    },
    {
      "cell_type": "code",
      "source": [
        "y.head()"
      ],
      "metadata": {
        "colab": {
          "base_uri": "https://localhost:8080/"
        },
        "id": "rxjToZUvOWUr",
        "outputId": "a26a4f10-6fa9-42e5-ec1f-6dbd138503cb"
      },
      "execution_count": 51,
      "outputs": [
        {
          "output_type": "execute_result",
          "data": {
            "text/plain": [
              "0    Tidak\n",
              "1    Tidak\n",
              "2    Tidak\n",
              "3    Tidak\n",
              "4    Tidak\n",
              "Name: Toko Sering Diskon (Ya/Tidak), dtype: object"
            ]
          },
          "metadata": {},
          "execution_count": 51
        }
      ]
    },
    {
      "cell_type": "markdown",
      "source": [
        "\n",
        "\n",
        "```\n",
        "# Ini diformat sebagai kode\n",
        "```\n",
        "\n",
        "# **6. Apply Features Scalling**"
      ],
      "metadata": {
        "id": "ZzAHYA6OOdrO"
      }
    },
    {
      "cell_type": "code",
      "source": [
        "from sklearn.preprocessing import StandardScaler\n",
        "numerical_features = ['Harga Rata-Rata Makanan di Toko (Rp)', 'Rating Toko', 'Entertainment','Keramaian Restoran']\n",
        "x_numerical = x[numerical_features]\n",
        "scaler.fit(x_numerical)\n",
        "SSX = scaler.transform(x_numerical)"
      ],
      "metadata": {
        "id": "hbZrXAN9OeuN"
      },
      "execution_count": 53,
      "outputs": []
    },
    {
      "cell_type": "markdown",
      "source": [
        "# **7. Train Test Split**"
      ],
      "metadata": {
        "id": "iwjT9S9OPjvE"
      }
    },
    {
      "cell_type": "code",
      "source": [
        "from sklearn.model_selection import train_test_split\n",
        "x_train, x_test, y_train, y_test = train_test_split(SSX, y, test_size=0.2, random_state=7)"
      ],
      "metadata": {
        "id": "LeIjnUPlPkij"
      },
      "execution_count": 54,
      "outputs": []
    },
    {
      "cell_type": "code",
      "source": [
        "x_train.shape, y_train.shape"
      ],
      "metadata": {
        "colab": {
          "base_uri": "https://localhost:8080/"
        },
        "id": "j6A77IKmPquh",
        "outputId": "aed4f46f-be87-4554-b3f1-b4c1bcb775c4"
      },
      "execution_count": 55,
      "outputs": [
        {
          "output_type": "execute_result",
          "data": {
            "text/plain": [
              "((232, 4), (232,))"
            ]
          },
          "metadata": {},
          "execution_count": 55
        }
      ]
    },
    {
      "cell_type": "code",
      "source": [
        "x_test.shape, y_test.shape"
      ],
      "metadata": {
        "colab": {
          "base_uri": "https://localhost:8080/"
        },
        "id": "phlFLr8qPumh",
        "outputId": "3e727c62-004f-4e95-b4c7-55c38d82178f"
      },
      "execution_count": 56,
      "outputs": [
        {
          "output_type": "execute_result",
          "data": {
            "text/plain": [
              "((59, 4), (59,))"
            ]
          },
          "metadata": {},
          "execution_count": 56
        }
      ]
    },
    {
      "cell_type": "markdown",
      "source": [
        "# **8. Build the Classification Algorithms SVM**"
      ],
      "metadata": {
        "id": "FXbJA0ygPxYW"
      }
    },
    {
      "cell_type": "code",
      "source": [
        "from sklearn.svm import SVC\n",
        "sv=SVC()\n",
        "sv.fit(x_train, y_train)"
      ],
      "metadata": {
        "colab": {
          "base_uri": "https://localhost:8080/",
          "height": 74
        },
        "id": "UL5Y0H75P0XQ",
        "outputId": "6a88137e-b688-418a-84ff-da44fd875d16"
      },
      "execution_count": 57,
      "outputs": [
        {
          "output_type": "execute_result",
          "data": {
            "text/plain": [
              "SVC()"
            ],
            "text/html": [
              "<style>#sk-container-id-1 {color: black;background-color: white;}#sk-container-id-1 pre{padding: 0;}#sk-container-id-1 div.sk-toggleable {background-color: white;}#sk-container-id-1 label.sk-toggleable__label {cursor: pointer;display: block;width: 100%;margin-bottom: 0;padding: 0.3em;box-sizing: border-box;text-align: center;}#sk-container-id-1 label.sk-toggleable__label-arrow:before {content: \"▸\";float: left;margin-right: 0.25em;color: #696969;}#sk-container-id-1 label.sk-toggleable__label-arrow:hover:before {color: black;}#sk-container-id-1 div.sk-estimator:hover label.sk-toggleable__label-arrow:before {color: black;}#sk-container-id-1 div.sk-toggleable__content {max-height: 0;max-width: 0;overflow: hidden;text-align: left;background-color: #f0f8ff;}#sk-container-id-1 div.sk-toggleable__content pre {margin: 0.2em;color: black;border-radius: 0.25em;background-color: #f0f8ff;}#sk-container-id-1 input.sk-toggleable__control:checked~div.sk-toggleable__content {max-height: 200px;max-width: 100%;overflow: auto;}#sk-container-id-1 input.sk-toggleable__control:checked~label.sk-toggleable__label-arrow:before {content: \"▾\";}#sk-container-id-1 div.sk-estimator input.sk-toggleable__control:checked~label.sk-toggleable__label {background-color: #d4ebff;}#sk-container-id-1 div.sk-label input.sk-toggleable__control:checked~label.sk-toggleable__label {background-color: #d4ebff;}#sk-container-id-1 input.sk-hidden--visually {border: 0;clip: rect(1px 1px 1px 1px);clip: rect(1px, 1px, 1px, 1px);height: 1px;margin: -1px;overflow: hidden;padding: 0;position: absolute;width: 1px;}#sk-container-id-1 div.sk-estimator {font-family: monospace;background-color: #f0f8ff;border: 1px dotted black;border-radius: 0.25em;box-sizing: border-box;margin-bottom: 0.5em;}#sk-container-id-1 div.sk-estimator:hover {background-color: #d4ebff;}#sk-container-id-1 div.sk-parallel-item::after {content: \"\";width: 100%;border-bottom: 1px solid gray;flex-grow: 1;}#sk-container-id-1 div.sk-label:hover label.sk-toggleable__label {background-color: #d4ebff;}#sk-container-id-1 div.sk-serial::before {content: \"\";position: absolute;border-left: 1px solid gray;box-sizing: border-box;top: 0;bottom: 0;left: 50%;z-index: 0;}#sk-container-id-1 div.sk-serial {display: flex;flex-direction: column;align-items: center;background-color: white;padding-right: 0.2em;padding-left: 0.2em;position: relative;}#sk-container-id-1 div.sk-item {position: relative;z-index: 1;}#sk-container-id-1 div.sk-parallel {display: flex;align-items: stretch;justify-content: center;background-color: white;position: relative;}#sk-container-id-1 div.sk-item::before, #sk-container-id-1 div.sk-parallel-item::before {content: \"\";position: absolute;border-left: 1px solid gray;box-sizing: border-box;top: 0;bottom: 0;left: 50%;z-index: -1;}#sk-container-id-1 div.sk-parallel-item {display: flex;flex-direction: column;z-index: 1;position: relative;background-color: white;}#sk-container-id-1 div.sk-parallel-item:first-child::after {align-self: flex-end;width: 50%;}#sk-container-id-1 div.sk-parallel-item:last-child::after {align-self: flex-start;width: 50%;}#sk-container-id-1 div.sk-parallel-item:only-child::after {width: 0;}#sk-container-id-1 div.sk-dashed-wrapped {border: 1px dashed gray;margin: 0 0.4em 0.5em 0.4em;box-sizing: border-box;padding-bottom: 0.4em;background-color: white;}#sk-container-id-1 div.sk-label label {font-family: monospace;font-weight: bold;display: inline-block;line-height: 1.2em;}#sk-container-id-1 div.sk-label-container {text-align: center;}#sk-container-id-1 div.sk-container {/* jupyter's `normalize.less` sets `[hidden] { display: none; }` but bootstrap.min.css set `[hidden] { display: none !important; }` so we also need the `!important` here to be able to override the default hidden behavior on the sphinx rendered scikit-learn.org. See: https://github.com/scikit-learn/scikit-learn/issues/21755 */display: inline-block !important;position: relative;}#sk-container-id-1 div.sk-text-repr-fallback {display: none;}</style><div id=\"sk-container-id-1\" class=\"sk-top-container\"><div class=\"sk-text-repr-fallback\"><pre>SVC()</pre><b>In a Jupyter environment, please rerun this cell to show the HTML representation or trust the notebook. <br />On GitHub, the HTML representation is unable to render, please try loading this page with nbviewer.org.</b></div><div class=\"sk-container\" hidden><div class=\"sk-item\"><div class=\"sk-estimator sk-toggleable\"><input class=\"sk-toggleable__control sk-hidden--visually\" id=\"sk-estimator-id-1\" type=\"checkbox\" checked><label for=\"sk-estimator-id-1\" class=\"sk-toggleable__label sk-toggleable__label-arrow\">SVC</label><div class=\"sk-toggleable__content\"><pre>SVC()</pre></div></div></div></div></div>"
            ]
          },
          "metadata": {},
          "execution_count": 57
        }
      ]
    },
    {
      "cell_type": "markdown",
      "source": [
        "# **9. Making Prediction**"
      ],
      "metadata": {
        "id": "09qC1gH1P3Hz"
      }
    },
    {
      "cell_type": "markdown",
      "source": [
        "9.4) SVM"
      ],
      "metadata": {
        "id": "Lx1khEg4P8xC"
      }
    },
    {
      "cell_type": "code",
      "source": [
        "sv_pred=sv.predict(x_test)"
      ],
      "metadata": {
        "id": "5zElA0pXP4hK"
      },
      "execution_count": 58,
      "outputs": []
    },
    {
      "cell_type": "code",
      "source": [
        "sv_pred.shape"
      ],
      "metadata": {
        "colab": {
          "base_uri": "https://localhost:8080/"
        },
        "id": "yZ9grAcKP_0S",
        "outputId": "366c4b0e-2648-4c5d-888a-99a81958a7cf"
      },
      "execution_count": 59,
      "outputs": [
        {
          "output_type": "execute_result",
          "data": {
            "text/plain": [
              "(59,)"
            ]
          },
          "metadata": {},
          "execution_count": 59
        }
      ]
    },
    {
      "cell_type": "markdown",
      "source": [
        "# **10) Model Evaluation**"
      ],
      "metadata": {
        "id": "DyegtrvNSVRI"
      }
    },
    {
      "cell_type": "markdown",
      "source": [
        "# **10.1) Train Score and Test Score**"
      ],
      "metadata": {
        "id": "aH2ez1c1SWIL"
      }
    },
    {
      "cell_type": "code",
      "source": [
        "#Train score & test score SVN\n",
        "from sklearn.metrics import accuracy_score\n",
        "print (\"Train Accuracy of SVM\",sv.score(x_train, y_train)*100)\n",
        "print (\"Accuracy (test) score of SVM\", sv.score(x_test, y_test)*100)\n",
        "print (\"Accuracy (test) score of SVM\", accuracy_score (y_test, sv_pred)*100)"
      ],
      "metadata": {
        "colab": {
          "base_uri": "https://localhost:8080/"
        },
        "id": "45fiIyUXSRgy",
        "outputId": "b2d83557-0b56-4983-dffc-a065d0595869"
      },
      "execution_count": 60,
      "outputs": [
        {
          "output_type": "stream",
          "name": "stdout",
          "text": [
            "Train Accuracy of SVM 78.44827586206897\n",
            "Accuracy (test) score of SVM 81.35593220338984\n",
            "Accuracy (test) score of SVM 81.35593220338984\n"
          ]
        }
      ]
    },
    {
      "cell_type": "markdown",
      "source": [
        "ROC Curve & ROC AUC ROC curve is one the import evaluating metrics that should be used to check performance of clasification model. it is also called relative operating characteristic curve, because is a comparison of two main characteristics (TPR & FBR). It is plotted between sensitivity (aka recall aka True Positive Rate) and False Positive Rate (FBR = 1 -spesificisty). ROC(Receciver Operating Characteristic) Curve tells about how good the model can distinguish between two thing . AUC(Area Under Cruve) helps us to choose the best model amongst the model for which we have plotted the ROC curves"
      ],
      "metadata": {
        "id": "_ypmHQs-SvTT"
      }
    },
    {
      "cell_type": "markdown",
      "source": [
        "# **Confusion Matrix of \"SVM\"**"
      ],
      "metadata": {
        "id": "xqG6bfkASxEV"
      }
    },
    {
      "cell_type": "code",
      "source": [
        "from sklearn.metrics import classification_report, confusion_matrix\n",
        "# Confusion matrix of Logistic Regression\n",
        "cm=confusion_matrix(y_test,sv_pred)\n",
        "cm"
      ],
      "metadata": {
        "colab": {
          "base_uri": "https://localhost:8080/"
        },
        "id": "vWVRbme3S8UV",
        "outputId": "671a1240-ae9d-44d6-9eec-ebbb12bfa0de"
      },
      "execution_count": 61,
      "outputs": [
        {
          "output_type": "execute_result",
          "data": {
            "text/plain": [
              "array([[48,  0],\n",
              "       [11,  0]])"
            ]
          },
          "metadata": {},
          "execution_count": 61
        }
      ]
    },
    {
      "cell_type": "code",
      "source": [
        "sns.heatmap(confusion_matrix(y_test, sv_pred),annot=True,fmt='d')"
      ],
      "metadata": {
        "colab": {
          "base_uri": "https://localhost:8080/",
          "height": 447
        },
        "id": "Dn-j69J9T57w",
        "outputId": "ae173f19-af4c-40fd-f2ca-0db686fb303f"
      },
      "execution_count": 62,
      "outputs": [
        {
          "output_type": "execute_result",
          "data": {
            "text/plain": [
              "<Axes: >"
            ]
          },
          "metadata": {},
          "execution_count": 62
        },
        {
          "output_type": "display_data",
          "data": {
            "text/plain": [
              "<Figure size 640x480 with 2 Axes>"
            ],
            "image/png": "[encoded data removed]"
          },
          "metadata": {}
        }
      ]
    },
    {
      "cell_type": "code",
      "source": [
        "print ( 'Classifiaction Report of SVM: \\n',\tclassification_report (y_test,sv_pred,digits=4))"
      ],
      "metadata": {
        "colab": {
          "base_uri": "https://localhost:8080/"
        },
        "id": "jyUGOpkFUYgz",
        "outputId": "d2356a8d-6223-4fd3-8f48-986cba8f0ae8"
      },
      "execution_count": 63,
      "outputs": [
        {
          "output_type": "stream",
          "name": "stdout",
          "text": [
            "Classifiaction Report of SVM: \n",
            "               precision    recall  f1-score   support\n",
            "\n",
            "       Tidak     0.8136    1.0000    0.8972        48\n",
            "          Ya     0.0000    0.0000    0.0000        11\n",
            "\n",
            "    accuracy                         0.8136        59\n",
            "   macro avg     0.4068    0.5000    0.4486        59\n",
            "weighted avg     0.6619    0.8136    0.7299        59\n",
            "\n"
          ]
        }
      ]
    },
    {
      "cell_type": "code",
      "source": [
        "TN = cm[0,0]\n",
        "FP = cm[0,1]\n",
        "FN = cm[1,0]\n",
        "TP = cm[1,1]"
      ],
      "metadata": {
        "id": "gr6NIoJsUrnX"
      },
      "execution_count": 64,
      "outputs": []
    },
    {
      "cell_type": "code",
      "source": [
        "TN, FP, FN, TP"
      ],
      "metadata": {
        "colab": {
          "base_uri": "https://localhost:8080/"
        },
        "id": "t3N4wWGTVBXE",
        "outputId": "920002bc-68a9-407f-8207-15ba5ba398c1"
      },
      "execution_count": 65,
      "outputs": [
        {
          "output_type": "execute_result",
          "data": {
            "text/plain": [
              "(48, 0, 11, 0)"
            ]
          },
          "metadata": {},
          "execution_count": 65
        }
      ]
    },
    {
      "cell_type": "code",
      "source": [
        "# Making the Confusion matrix of SVN\n",
        "from sklearn.metrics import classification_report, confusion_matrix\n",
        "cm = confusion_matrix(y_test, sv_pred)\n",
        "cm"
      ],
      "metadata": {
        "colab": {
          "base_uri": "https://localhost:8080/"
        },
        "id": "SjAl_u_dVbDo",
        "outputId": "fb326f11-cc17-45e9-af01-8625d6d8b2af"
      },
      "execution_count": 66,
      "outputs": [
        {
          "output_type": "execute_result",
          "data": {
            "text/plain": [
              "array([[48,  0],\n",
              "       [11,  0]])"
            ]
          },
          "metadata": {},
          "execution_count": 66
        }
      ]
    },
    {
      "cell_type": "code",
      "source": [
        "# Making the confusion matrix of SWvm\n",
        "from sklearn.metrics import classification_report, confusion_matrix\n",
        "from sklearn.metrics import accuracy_score, roc_auc_score, roc_curve\n",
        "cm=confusion_matrix(y_test, sv_pred)"
      ],
      "metadata": {
        "id": "htQuhRD4V6E_"
      },
      "execution_count": 67,
      "outputs": []
    },
    {
      "cell_type": "code",
      "source": [
        "print ('TN - True Negative {}'. format(cm[0,0]))\n",
        "print ('TP - True Positive {}'. format(cm[0,1]))\n",
        "print ('FN - False Negative {}'. format(cm[1,0]))\n",
        "print ('TP - True Positive {}'. format(cm[1,1]))\n",
        "print( 'Accuracy Rate of SVM:{}'. format(np.divide(np.sum([cm[0,0],cm[0,1]]),np.sum(cm))*100))\n",
        "print( 'Misclassification Rate of SVM:{}'. format(np.divide(np.sum([cm[0,1],cm[1,0]]),np.sum(cm))*100))"
      ],
      "metadata": {
        "colab": {
          "base_uri": "https://localhost:8080/"
        },
        "id": "qkes6hwvYl_I",
        "outputId": "385a9a76-9ddc-4301-fa12-2995e70f3f34"
      },
      "execution_count": 68,
      "outputs": [
        {
          "output_type": "stream",
          "name": "stdout",
          "text": [
            "TN - True Negative 48\n",
            "TP - True Positive 0\n",
            "FN - False Negative 11\n",
            "TP - True Positive 0\n",
            "Accuracy Rate of SVM:81.35593220338984\n",
            "Misclassification Rate of SVM:18.64406779661017\n"
          ]
        }
      ]
    },
    {
      "cell_type": "code",
      "source": [
        "sns.heatmap(confusion_matrix(y_test, sv_pred), cmap='Blues', annot=True, fmt=\"d\")"
      ],
      "metadata": {
        "colab": {
          "base_uri": "https://localhost:8080/",
          "height": 447
        },
        "id": "gOj4eoMcYyUZ",
        "outputId": "af969daf-c2b7-4e8c-f9a1-f04d006b6ff8"
      },
      "execution_count": 71,
      "outputs": [
        {
          "output_type": "execute_result",
          "data": {
            "text/plain": [
              "<Axes: >"
            ]
          },
          "metadata": {},
          "execution_count": 71
        },
        {
          "output_type": "display_data",
          "data": {
            "text/plain": [
              "<Figure size 640x480 with 2 Axes>"
            ],
            "image/png": "[encoded data removed]"
          },
          "metadata": {}
        }
      ]
    },
    {
      "cell_type": "markdown",
      "source": [
        "# **Classification Report of SVM**"
      ],
      "metadata": {
        "id": "cJt4Tp-kZqvR"
      }
    },
    {
      "cell_type": "code",
      "source": [
        "print( 'Classification Report of SVM: \\n', classification_report(y_test,sv_pred,digits=4))"
      ],
      "metadata": {
        "colab": {
          "base_uri": "https://localhost:8080/"
        },
        "id": "XtOKRzgSZwYc",
        "outputId": "f02bced1-2866-44b0-e08c-f5392613611e"
      },
      "execution_count": 72,
      "outputs": [
        {
          "output_type": "stream",
          "name": "stdout",
          "text": [
            "Classification Report of SVM: \n",
            "               precision    recall  f1-score   support\n",
            "\n",
            "       Tidak     0.8136    1.0000    0.8972        48\n",
            "          Ya     0.0000    0.0000    0.0000        11\n",
            "\n",
            "    accuracy                         0.8136        59\n",
            "   macro avg     0.4068    0.5000    0.4486        59\n",
            "weighted avg     0.6619    0.8136    0.7299        59\n",
            "\n"
          ]
        }
      ]
    },
    {
      "cell_type": "code",
      "source": [
        "TN = cm[0,0]\n",
        "FP = cm[0,1]\n",
        "FN = cm[1,0]\n",
        "TP = cm[1,1]"
      ],
      "metadata": {
        "id": "X3jtP2ZIaNRm"
      },
      "execution_count": 73,
      "outputs": []
    },
    {
      "cell_type": "code",
      "source": [
        "TN, FP, FN, TP"
      ],
      "metadata": {
        "colab": {
          "base_uri": "https://localhost:8080/"
        },
        "id": "NBYqMCO7aQFM",
        "outputId": "7af89683-b4a0-46f5-cc69-4497992e7fbc"
      },
      "execution_count": 74,
      "outputs": [
        {
          "output_type": "execute_result",
          "data": {
            "text/plain": [
              "(48, 0, 11, 0)"
            ]
          },
          "metadata": {},
          "execution_count": 74
        }
      ]
    },
    {
      "cell_type": "code",
      "source": [
        "# PRECISION (PPV-Positive Prediction Value)\n",
        "# Precision = TP/(TP+FP), Where TP = True Positive, FP\t= False Positive\n",
        "TP,FP"
      ],
      "metadata": {
        "colab": {
          "base_uri": "https://localhost:8080/"
        },
        "id": "mzBO57xNap8V",
        "outputId": "53e9a2af-bbde-4170-dbdc-77bacdfce8a1"
      },
      "execution_count": 75,
      "outputs": [
        {
          "output_type": "execute_result",
          "data": {
            "text/plain": [
              "(0, 0)"
            ]
          },
          "metadata": {},
          "execution_count": 75
        }
      ]
    },
    {
      "cell_type": "code",
      "source": [
        "Precision=TP/(TP+FP)\n",
        "Precision"
      ],
      "metadata": {
        "colab": {
          "base_uri": "https://localhost:8080/"
        },
        "id": "Zcp8EsJgarr_",
        "outputId": "30f454ba-3746-4167-c188-3a4cabc2ad92"
      },
      "execution_count": 76,
      "outputs": [
        {
          "output_type": "execute_result",
          "data": {
            "text/plain": [
              "nan"
            ]
          },
          "metadata": {},
          "execution_count": 76
        }
      ]
    },
    {
      "cell_type": "code",
      "source": [
        "precision_score = TP/float(TP+FP)*100\n",
        "print( 'Precision Score : {0:0.4f}'.format(precision_score))"
      ],
      "metadata": {
        "colab": {
          "base_uri": "https://localhost:8080/"
        },
        "id": "7ToFwd2tbP7x",
        "outputId": "dba63d10-cc64-45a9-f420-098721a8d4b1"
      },
      "execution_count": 77,
      "outputs": [
        {
          "output_type": "stream",
          "name": "stdout",
          "text": [
            "Precision Score : nan\n"
          ]
        }
      ]
    },
    {
      "cell_type": "code",
      "source": [
        "from sklearn.metrics import precision_score\n",
        "y_test = [0, 1, 1, 0, 1]\n",
        "sv_pred = [0, 1, 0, 1, 1]\n",
        "precision = precision_score(y_test, sv_pred)*100\n",
        "print(\"Precision Score is:\", precision)\n",
        "micro_avg_precision = precision_score(y_test, sv_pred, average='micro')*100\n",
        "print(\"Micro Average precision Score is:\", micro_avg_precision)\n",
        "macro_avg_precision = precision_score(y_test, sv_pred, average='macro')*100\n",
        "print(\"Macro Average precision Score is:\", macro_avg_precision)\n",
        "weighted_avg_precision = precision_score(y_test, sv_pred, average='weighted')*100\n",
        "print(\"Weighted Average precision Score is:\", weighted_avg_precision)\n",
        "precision_per_class = precision_score(y_test, sv_pred, average=None)*100\n",
        "print(\"Precision Score on non weighted Score is:\", precision_per_class)"
      ],
      "metadata": {
        "colab": {
          "base_uri": "https://localhost:8080/"
        },
        "id": "YylBF0OXbROg",
        "outputId": "7cff2f4b-4372-4b78-a1e9-e1bdf679c050"
      },
      "execution_count": 85,
      "outputs": [
        {
          "output_type": "stream",
          "name": "stdout",
          "text": [
            "Precision Score is: 66.66666666666666\n",
            "Micro Average precision Score is: 60.0\n",
            "Macro Average precision Score is: 58.33333333333333\n",
            "Weighted Average precision Score is: 60.0\n",
            "Precision Score on non weighted Score is: [50.         66.66666667]\n"
          ]
        }
      ]
    },
    {
      "cell_type": "code",
      "source": [
        "recall_score = TP/float(TP +  FN)*100\n",
        "print ('recall_score',recall_score)"
      ],
      "metadata": {
        "colab": {
          "base_uri": "https://localhost:8080/"
        },
        "id": "lWdLW5XphvC_",
        "outputId": "7ca5d16f-7885-4f44-f0d1-a2542c0f9cf1"
      },
      "execution_count": 86,
      "outputs": [
        {
          "output_type": "stream",
          "name": "stdout",
          "text": [
            "recall_score 0.0\n"
          ]
        }
      ]
    },
    {
      "cell_type": "code",
      "source": [
        "TP, FN"
      ],
      "metadata": {
        "colab": {
          "base_uri": "https://localhost:8080/"
        },
        "id": "IVou7q_aiOzM",
        "outputId": "36e6f95b-c534-4ecd-b533-7e601a6d15fa"
      },
      "execution_count": 87,
      "outputs": [
        {
          "output_type": "execute_result",
          "data": {
            "text/plain": [
              "(0, 11)"
            ]
          },
          "metadata": {},
          "execution_count": 87
        }
      ]
    },
    {
      "cell_type": "code",
      "source": [
        "recall_score = TP/FN"
      ],
      "metadata": {
        "id": "2NnocsAyiQRl"
      },
      "execution_count": 88,
      "outputs": []
    },
    {
      "cell_type": "code",
      "source": [
        "from sklearn .metrics import recall_score\n",
        "print( 'Recall or Sensitivity_score :', recall_score (y_test, sv_pred)*100)"
      ],
      "metadata": {
        "colab": {
          "base_uri": "https://localhost:8080/"
        },
        "id": "SrMq0kS0ilVK",
        "outputId": "51be61d2-6b1c-4b74-cd56-ba2fb0ac1737"
      },
      "execution_count": 89,
      "outputs": [
        {
          "output_type": "stream",
          "name": "stdout",
          "text": [
            "Recall or Sensitivity_score : 66.66666666666666\n"
          ]
        }
      ]
    },
    {
      "cell_type": "code",
      "source": [
        "print (\"Micro Average Recall Score is :\" ,recall_score (y_test, sv_pred, average='micro')*100)\n",
        "print (\"Macro Average Recall Score is :\" ,recall_score (y_test, sv_pred, average='macro')*100)\n",
        "print (\"Weighted Average Recall Score is :\" ,recall_score (y_test, sv_pred, average='weighted')*100)\n",
        "print (\"Recall Score on Non weighted score is :\" ,recall_score (y_test, sv_pred, average=None)*100)"
      ],
      "metadata": {
        "colab": {
          "base_uri": "https://localhost:8080/"
        },
        "id": "ZGc1a7T3imdv",
        "outputId": "32eaa603-367d-4c0d-a6d3-96ccb3fa3569"
      },
      "execution_count": 90,
      "outputs": [
        {
          "output_type": "stream",
          "name": "stdout",
          "text": [
            "Micro Average Recall Score is : 60.0\n",
            "Macro Average Recall Score is : 58.33333333333333\n",
            "Weighted Average Recall Score is : 60.0\n",
            "Recall Score on Non weighted score is : [50.         66.66666667]\n"
          ]
        }
      ]
    },
    {
      "cell_type": "code",
      "source": [
        "print ( 'Classification Report of Neural Network: \\n',classification_report(y_test,sv_pred,digits=4))"
      ],
      "metadata": {
        "colab": {
          "base_uri": "https://localhost:8080/"
        },
        "id": "owQO5sZUjxaB",
        "outputId": "4aafedd1-2bf5-40e6-99e4-ef8e4fd1e108"
      },
      "execution_count": 91,
      "outputs": [
        {
          "output_type": "stream",
          "name": "stdout",
          "text": [
            "Classification Report of Neural Network: \n",
            "               precision    recall  f1-score   support\n",
            "\n",
            "           0     0.5000    0.5000    0.5000         2\n",
            "           1     0.6667    0.6667    0.6667         3\n",
            "\n",
            "    accuracy                         0.6000         5\n",
            "   macro avg     0.5833    0.5833    0.5833         5\n",
            "weighted avg     0.6000    0.6000    0.6000         5\n",
            "\n"
          ]
        }
      ]
    },
    {
      "cell_type": "code",
      "source": [
        "#FALSE POSITIVE RATE ( FPR )\n",
        "FPR =  FP/float(FP+TN)*100\n",
        "print( 'False Positive Rate : {0:0.4f}' . format(FPR))"
      ],
      "metadata": {
        "colab": {
          "base_uri": "https://localhost:8080/"
        },
        "id": "yfDququijy-L",
        "outputId": "81236e2b-32e3-43b2-83e0-31cba3cc641e"
      },
      "execution_count": 93,
      "outputs": [
        {
          "output_type": "stream",
          "name": "stdout",
          "text": [
            "False Positive Rate : 0.0000\n"
          ]
        }
      ]
    },
    {
      "cell_type": "code",
      "source": [
        "FP,TN"
      ],
      "metadata": {
        "colab": {
          "base_uri": "https://localhost:8080/"
        },
        "id": "uV5DNfeHkd7m",
        "outputId": "931e626a-2f38-40f2-ef8d-8e4200b00269"
      },
      "execution_count": 94,
      "outputs": [
        {
          "output_type": "execute_result",
          "data": {
            "text/plain": [
              "(0, 48)"
            ]
          },
          "metadata": {},
          "execution_count": 94
        }
      ]
    },
    {
      "cell_type": "code",
      "source": [
        "14/(14+83)"
      ],
      "metadata": {
        "colab": {
          "base_uri": "https://localhost:8080/"
        },
        "id": "tOvpReyLkfbL",
        "outputId": "a4d7a66e-9081-4b6c-dc81-dff9d762256d"
      },
      "execution_count": 95,
      "outputs": [
        {
          "output_type": "execute_result",
          "data": {
            "text/plain": [
              "0.14432989690721648"
            ]
          },
          "metadata": {},
          "execution_count": 95
        }
      ]
    },
    {
      "cell_type": "code",
      "source": [
        "#SPECIFICITY\n",
        "specificity = TN / (TN + FP )*100\n",
        "print( 'specificity : {0:0.4f}' .format(specificity))"
      ],
      "metadata": {
        "colab": {
          "base_uri": "https://localhost:8080/"
        },
        "id": "iV16YrTsk3KG",
        "outputId": "d5f0bf66-39f1-4b55-d932-5279343977b9"
      },
      "execution_count": 96,
      "outputs": [
        {
          "output_type": "stream",
          "name": "stdout",
          "text": [
            "specificity : 100.0000\n"
          ]
        }
      ]
    },
    {
      "cell_type": "markdown",
      "source": [
        "# **F1 Score**"
      ],
      "metadata": {
        "id": "Ia4q6dVclAvT"
      }
    },
    {
      "cell_type": "code",
      "source": [
        "from sklearn .metrics import f1_score\n",
        "print ( 'f1_score of macro:',f1_score(y_test, sv_pred)*100)"
      ],
      "metadata": {
        "colab": {
          "base_uri": "https://localhost:8080/"
        },
        "id": "uVEnrt-zlPJf",
        "outputId": "8812ea64-eada-445c-b3c0-28af17087a56"
      },
      "execution_count": 98,
      "outputs": [
        {
          "output_type": "stream",
          "name": "stdout",
          "text": [
            "f1_score of macro: 66.66666666666666\n"
          ]
        }
      ]
    },
    {
      "cell_type": "code",
      "source": [
        "print (\"Micro Average fl Score is:\", f1_score(y_test, sv_pred, average= 'micro')*100)\n",
        "print (\"Macro Average fl Score is:\", f1_score(y_test, sv_pred, average= 'macro')*100)\n",
        "print (\"Weighted Average fl Score is:\", f1_score(y_test, sv_pred, average= 'weighted')*100)\n",
        "print (\"fl Score on Non weighted score is:\", f1_score(y_test, sv_pred, average=None)*100)"
      ],
      "metadata": {
        "colab": {
          "base_uri": "https://localhost:8080/"
        },
        "id": "ZnuayBPmlDag",
        "outputId": "377aa4c0-0cd6-4c25-9704-53af721fa166"
      },
      "execution_count": 99,
      "outputs": [
        {
          "output_type": "stream",
          "name": "stdout",
          "text": [
            "Micro Average fl Score is: 60.0\n",
            "Macro Average fl Score is: 58.33333333333333\n",
            "Weighted Average fl Score is: 60.0\n",
            "fl Score on Non weighted score is: [50.         66.66666667]\n"
          ]
        }
      ]
    },
    {
      "cell_type": "markdown",
      "source": [
        "# **ROC AUC of SVM**"
      ],
      "metadata": {
        "id": "WiE44LfGmpOZ"
      }
    },
    {
      "cell_type": "code",
      "source": [
        "# Area Under Curve\n",
        "auc = roc_auc_score(y_test,sv_pred)\n",
        "print(\"ROC AUC SCORE of SVM is\",auc)"
      ],
      "metadata": {
        "colab": {
          "base_uri": "https://localhost:8080/"
        },
        "id": "v8iGbma_mu7L",
        "outputId": "8be3a5db-2b8c-4805-f601-f4774f24114f"
      },
      "execution_count": 101,
      "outputs": [
        {
          "output_type": "stream",
          "name": "stdout",
          "text": [
            "ROC AUC SCORE of SVM is 0.5833333333333333\n"
          ]
        }
      ]
    },
    {
      "cell_type": "code",
      "source": [
        "from sklearn.metrics import roc_auc_score\n",
        "auc = round (roc_auc_score(y_test,sv_pred)*100,2)\n",
        "print(\"ROC AUC SCORE of SVM is\",auc)"
      ],
      "metadata": {
        "colab": {
          "base_uri": "https://localhost:8080/"
        },
        "id": "c48inwHcniQ-",
        "outputId": "189b6373-a29f-4aed-c359-f3008aa89345"
      },
      "execution_count": 102,
      "outputs": [
        {
          "output_type": "stream",
          "name": "stdout",
          "text": [
            "ROC AUC SCORE of SVM is 58.33\n"
          ]
        }
      ]
    },
    {
      "cell_type": "code",
      "source": [
        "fpr, tpr, thresholds = roc_curve(y_test, sv_pred)\n",
        "plt.plot(fpr, tpr, color='orange', label='ROC')\n",
        "plt.plot([0, 1],[0,1], color='darkblue', linestyle='--', label='ROC curve(area  = 0%.2f)'% auc)\n",
        "plt.xlabel('False Positive Rate')\n",
        "plt.ylabel('True Positive Rate')\n",
        "plt.title('Receiver Operating Characteristic (ROC) of SVM' )\n",
        "plt.legend()\n",
        "plt.grid()\n",
        "plt.show()"
      ],
      "metadata": {
        "colab": {
          "base_uri": "https://localhost:8080/",
          "height": 472
        },
        "id": "l9upg7AenjZA",
        "outputId": "1c18c760-4b83-4d29-d778-da38c49e567f"
      },
      "execution_count": 105,
      "outputs": [
        {
          "output_type": "display_data",
          "data": {
            "text/plain": [
              "<Figure size 640x480 with 1 Axes>"
            ],
            "image/png": "[encoded data removed]"
          },
          "metadata": {}
        }
      ]
    }
  ]
}